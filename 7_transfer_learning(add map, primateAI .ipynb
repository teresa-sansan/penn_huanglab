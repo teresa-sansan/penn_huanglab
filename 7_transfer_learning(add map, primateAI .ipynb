{
 "cells": [
  {
   "cell_type": "code",
   "execution_count": 5,
   "metadata": {
    "collapsed": true
   },
   "outputs": [],
   "source": [
    "import pandas as pd\n",
    "import numpy as np\n",
    "import matplotlib.pyplot as plt\n",
    "from sklearn.linear_model import LogisticRegression, RidgeClassifier, Lasso\n",
    "from sklearn.metrics import roc_auc_score, auc, roc_curve, confusion_matrix\n",
    "from sklearn.model_selection import cross_val_score, train_test_split, StratifiedKFold, GridSearchCV\n",
    "from sklearn.metrics import classification_report\n",
    "from test_function import *\n",
    "import random\n",
    "from sklearn.svm import SVC\n",
    "from sklearn.model_selection import GridSearchCV\n",
    "from test_function import *\n",
    "from sklearn.ensemble import GradientBoostingClassifier\n",
    "import math\n",
    "import scipy.stats as stats\n",
    "import statsmodels.api as sm\n",
    "import pylab as pl"
   ]
  },
  {
   "cell_type": "code",
   "execution_count": 6,
   "metadata": {
    "collapsed": true
   },
   "outputs": [],
   "source": [
    "alldata = pd.read_csv('allmodel_denovo.csv', sep = '\\t')"
   ]
  },
  {
   "cell_type": "code",
   "execution_count": 7,
   "metadata": {},
   "outputs": [
    {
     "data": {
      "text/html": [
       "<div>\n",
       "<style scoped>\n",
       "    .dataframe tbody tr th:only-of-type {\n",
       "        vertical-align: middle;\n",
       "    }\n",
       "\n",
       "    .dataframe tbody tr th {\n",
       "        vertical-align: top;\n",
       "    }\n",
       "\n",
       "    .dataframe thead th {\n",
       "        text-align: right;\n",
       "    }\n",
       "</style>\n",
       "<table border=\"1\" class=\"dataframe\">\n",
       "  <thead>\n",
       "    <tr style=\"text-align: right;\">\n",
       "      <th></th>\n",
       "      <th>location</th>\n",
       "      <th>SIFT_pred</th>\n",
       "      <th>LRT_pred</th>\n",
       "      <th>MA_pred</th>\n",
       "      <th>PROVEN_pred</th>\n",
       "      <th>SLR_score</th>\n",
       "      <th>SIFT_score</th>\n",
       "      <th>LRT_omega</th>\n",
       "      <th>MA_score</th>\n",
       "      <th>PROVEN_score</th>\n",
       "      <th>...</th>\n",
       "      <th>M-CAP_score</th>\n",
       "      <th>REVEL_score</th>\n",
       "      <th>ClinPred_score</th>\n",
       "      <th>LIST-S2_score</th>\n",
       "      <th>CADD_phred_hg19</th>\n",
       "      <th>DANN_score</th>\n",
       "      <th>MPC</th>\n",
       "      <th>primateAI</th>\n",
       "      <th>source</th>\n",
       "      <th>result</th>\n",
       "    </tr>\n",
       "  </thead>\n",
       "  <tbody>\n",
       "    <tr>\n",
       "      <td>0</td>\n",
       "      <td>chr1-909368-909369-G-A</td>\n",
       "      <td>0</td>\n",
       "      <td>0</td>\n",
       "      <td>0</td>\n",
       "      <td>0</td>\n",
       "      <td>0.017887</td>\n",
       "      <td>-0.131771</td>\n",
       "      <td>-0.020771</td>\n",
       "      <td>-1.445971</td>\n",
       "      <td>1.096942</td>\n",
       "      <td>...</td>\n",
       "      <td>0.006359</td>\n",
       "      <td>0.007</td>\n",
       "      <td>0.000953</td>\n",
       "      <td>0.230077</td>\n",
       "      <td>8.064</td>\n",
       "      <td>0.769905</td>\n",
       "      <td>0.009648</td>\n",
       "      <td>0.376979</td>\n",
       "      <td>0</td>\n",
       "      <td>0</td>\n",
       "    </tr>\n",
       "    <tr>\n",
       "      <td>1</td>\n",
       "      <td>chr1-949780-949781-G-A</td>\n",
       "      <td>0</td>\n",
       "      <td>0</td>\n",
       "      <td>0</td>\n",
       "      <td>0</td>\n",
       "      <td>0.669956</td>\n",
       "      <td>-0.248541</td>\n",
       "      <td>-0.017137</td>\n",
       "      <td>-0.552930</td>\n",
       "      <td>0.746700</td>\n",
       "      <td>...</td>\n",
       "      <td>0.022658</td>\n",
       "      <td>0.105</td>\n",
       "      <td>0.010884</td>\n",
       "      <td>0.579442</td>\n",
       "      <td>14.870</td>\n",
       "      <td>0.972044</td>\n",
       "      <td>0.323833</td>\n",
       "      <td>0.293253</td>\n",
       "      <td>0</td>\n",
       "      <td>0</td>\n",
       "    </tr>\n",
       "    <tr>\n",
       "      <td>2</td>\n",
       "      <td>chr1-949850-949851-G-C</td>\n",
       "      <td>1</td>\n",
       "      <td>0</td>\n",
       "      <td>0</td>\n",
       "      <td>0</td>\n",
       "      <td>0.017887</td>\n",
       "      <td>-0.466967</td>\n",
       "      <td>-0.002654</td>\n",
       "      <td>-1.445971</td>\n",
       "      <td>1.177205</td>\n",
       "      <td>...</td>\n",
       "      <td>0.002278</td>\n",
       "      <td>0.012</td>\n",
       "      <td>0.004718</td>\n",
       "      <td>0.453055</td>\n",
       "      <td>0.014</td>\n",
       "      <td>0.671454</td>\n",
       "      <td>0.295142</td>\n",
       "      <td>0.312391</td>\n",
       "      <td>0</td>\n",
       "      <td>0</td>\n",
       "    </tr>\n",
       "    <tr>\n",
       "      <td>3</td>\n",
       "      <td>chr1-955676-955677-A-C</td>\n",
       "      <td>1</td>\n",
       "      <td>0</td>\n",
       "      <td>1</td>\n",
       "      <td>0</td>\n",
       "      <td>0.017887</td>\n",
       "      <td>-0.619453</td>\n",
       "      <td>-0.028677</td>\n",
       "      <td>0.107775</td>\n",
       "      <td>0.567931</td>\n",
       "      <td>...</td>\n",
       "      <td>0.732046</td>\n",
       "      <td>0.270</td>\n",
       "      <td>0.169499</td>\n",
       "      <td>0.873813</td>\n",
       "      <td>23.000</td>\n",
       "      <td>0.990862</td>\n",
       "      <td>0.457945</td>\n",
       "      <td>0.942415</td>\n",
       "      <td>0</td>\n",
       "      <td>0</td>\n",
       "    </tr>\n",
       "    <tr>\n",
       "      <td>4</td>\n",
       "      <td>chr1-957604-957605-G-A</td>\n",
       "      <td>1</td>\n",
       "      <td>0</td>\n",
       "      <td>1</td>\n",
       "      <td>0</td>\n",
       "      <td>-0.972068</td>\n",
       "      <td>-0.619453</td>\n",
       "      <td>-0.028677</td>\n",
       "      <td>0.144078</td>\n",
       "      <td>0.301602</td>\n",
       "      <td>...</td>\n",
       "      <td>0.235624</td>\n",
       "      <td>0.796</td>\n",
       "      <td>0.980166</td>\n",
       "      <td>0.939406</td>\n",
       "      <td>24.600</td>\n",
       "      <td>0.998404</td>\n",
       "      <td>1.266766</td>\n",
       "      <td>0.707299</td>\n",
       "      <td>0</td>\n",
       "      <td>1</td>\n",
       "    </tr>\n",
       "    <tr>\n",
       "      <td>...</td>\n",
       "      <td>...</td>\n",
       "      <td>...</td>\n",
       "      <td>...</td>\n",
       "      <td>...</td>\n",
       "      <td>...</td>\n",
       "      <td>...</td>\n",
       "      <td>...</td>\n",
       "      <td>...</td>\n",
       "      <td>...</td>\n",
       "      <td>...</td>\n",
       "      <td>...</td>\n",
       "      <td>...</td>\n",
       "      <td>...</td>\n",
       "      <td>...</td>\n",
       "      <td>...</td>\n",
       "      <td>...</td>\n",
       "      <td>...</td>\n",
       "      <td>...</td>\n",
       "      <td>...</td>\n",
       "      <td>...</td>\n",
       "      <td>...</td>\n",
       "    </tr>\n",
       "    <tr>\n",
       "      <td>34294</td>\n",
       "      <td>chrX-152087575-152087576-G-A</td>\n",
       "      <td>1</td>\n",
       "      <td>0</td>\n",
       "      <td>0</td>\n",
       "      <td>0</td>\n",
       "      <td>1.042752</td>\n",
       "      <td>-0.449129</td>\n",
       "      <td>0.002114</td>\n",
       "      <td>0.036865</td>\n",
       "      <td>0.463191</td>\n",
       "      <td>...</td>\n",
       "      <td>0.020687</td>\n",
       "      <td>0.100</td>\n",
       "      <td>0.780054</td>\n",
       "      <td>0.863714</td>\n",
       "      <td>22.500</td>\n",
       "      <td>0.998778</td>\n",
       "      <td>0.246865</td>\n",
       "      <td>0.376200</td>\n",
       "      <td>1</td>\n",
       "      <td>0</td>\n",
       "    </tr>\n",
       "    <tr>\n",
       "      <td>34295</td>\n",
       "      <td>chrX-152823731-152823732-G-C</td>\n",
       "      <td>0</td>\n",
       "      <td>1</td>\n",
       "      <td>0</td>\n",
       "      <td>0</td>\n",
       "      <td>-1.707224</td>\n",
       "      <td>0.030325</td>\n",
       "      <td>-0.028005</td>\n",
       "      <td>-1.972370</td>\n",
       "      <td>0.116006</td>\n",
       "      <td>...</td>\n",
       "      <td>0.293518</td>\n",
       "      <td>0.623</td>\n",
       "      <td>0.934660</td>\n",
       "      <td>0.985301</td>\n",
       "      <td>22.500</td>\n",
       "      <td>0.997626</td>\n",
       "      <td>1.533473</td>\n",
       "      <td>0.844758</td>\n",
       "      <td>1</td>\n",
       "      <td>0</td>\n",
       "    </tr>\n",
       "    <tr>\n",
       "      <td>34296</td>\n",
       "      <td>chrX-153184736-153184737-G-A</td>\n",
       "      <td>1</td>\n",
       "      <td>0</td>\n",
       "      <td>1</td>\n",
       "      <td>1</td>\n",
       "      <td>0.005868</td>\n",
       "      <td>-0.624354</td>\n",
       "      <td>-0.028005</td>\n",
       "      <td>0.868574</td>\n",
       "      <td>-1.730660</td>\n",
       "      <td>...</td>\n",
       "      <td>0.101583</td>\n",
       "      <td>0.363</td>\n",
       "      <td>0.992261</td>\n",
       "      <td>0.960404</td>\n",
       "      <td>32.000</td>\n",
       "      <td>0.999141</td>\n",
       "      <td>1.405771</td>\n",
       "      <td>0.674641</td>\n",
       "      <td>1</td>\n",
       "      <td>0</td>\n",
       "    </tr>\n",
       "    <tr>\n",
       "      <td>34297</td>\n",
       "      <td>chrX-153281946-153281947-C-T</td>\n",
       "      <td>1</td>\n",
       "      <td>0</td>\n",
       "      <td>1</td>\n",
       "      <td>1</td>\n",
       "      <td>0.478370</td>\n",
       "      <td>-0.605629</td>\n",
       "      <td>-0.024589</td>\n",
       "      <td>0.203206</td>\n",
       "      <td>-0.321099</td>\n",
       "      <td>...</td>\n",
       "      <td>0.136988</td>\n",
       "      <td>0.272</td>\n",
       "      <td>0.737025</td>\n",
       "      <td>0.964504</td>\n",
       "      <td>21.800</td>\n",
       "      <td>0.997202</td>\n",
       "      <td>1.281132</td>\n",
       "      <td>0.501935</td>\n",
       "      <td>1</td>\n",
       "      <td>0</td>\n",
       "    </tr>\n",
       "    <tr>\n",
       "      <td>34298</td>\n",
       "      <td>chrX-153940861-153940862-G-T</td>\n",
       "      <td>0</td>\n",
       "      <td>0</td>\n",
       "      <td>1</td>\n",
       "      <td>0</td>\n",
       "      <td>-1.193363</td>\n",
       "      <td>1.214100</td>\n",
       "      <td>-0.016737</td>\n",
       "      <td>0.347662</td>\n",
       "      <td>0.973565</td>\n",
       "      <td>...</td>\n",
       "      <td>0.006510</td>\n",
       "      <td>0.021</td>\n",
       "      <td>0.132459</td>\n",
       "      <td>0.502950</td>\n",
       "      <td>0.160</td>\n",
       "      <td>0.587155</td>\n",
       "      <td>0.313288</td>\n",
       "      <td>0.299523</td>\n",
       "      <td>1</td>\n",
       "      <td>0</td>\n",
       "    </tr>\n",
       "  </tbody>\n",
       "</table>\n",
       "<p>34299 rows × 45 columns</p>\n",
       "</div>"
      ],
      "text/plain": [
       "                           location  SIFT_pred  LRT_pred  MA_pred  \\\n",
       "0            chr1-909368-909369-G-A          0         0        0   \n",
       "1            chr1-949780-949781-G-A          0         0        0   \n",
       "2            chr1-949850-949851-G-C          1         0        0   \n",
       "3            chr1-955676-955677-A-C          1         0        1   \n",
       "4            chr1-957604-957605-G-A          1         0        1   \n",
       "...                             ...        ...       ...      ...   \n",
       "34294  chrX-152087575-152087576-G-A          1         0        0   \n",
       "34295  chrX-152823731-152823732-G-C          0         1        0   \n",
       "34296  chrX-153184736-153184737-G-A          1         0        1   \n",
       "34297  chrX-153281946-153281947-C-T          1         0        1   \n",
       "34298  chrX-153940861-153940862-G-T          0         0        1   \n",
       "\n",
       "       PROVEN_pred  SLR_score  SIFT_score  LRT_omega  MA_score  PROVEN_score  \\\n",
       "0                0   0.017887   -0.131771  -0.020771 -1.445971      1.096942   \n",
       "1                0   0.669956   -0.248541  -0.017137 -0.552930      0.746700   \n",
       "2                0   0.017887   -0.466967  -0.002654 -1.445971      1.177205   \n",
       "3                0   0.017887   -0.619453  -0.028677  0.107775      0.567931   \n",
       "4                0  -0.972068   -0.619453  -0.028677  0.144078      0.301602   \n",
       "...            ...        ...         ...        ...       ...           ...   \n",
       "34294            0   1.042752   -0.449129   0.002114  0.036865      0.463191   \n",
       "34295            0  -1.707224    0.030325  -0.028005 -1.972370      0.116006   \n",
       "34296            1   0.005868   -0.624354  -0.028005  0.868574     -1.730660   \n",
       "34297            1   0.478370   -0.605629  -0.024589  0.203206     -0.321099   \n",
       "34298            0  -1.193363    1.214100  -0.016737  0.347662      0.973565   \n",
       "\n",
       "       ...  M-CAP_score  REVEL_score  ClinPred_score  LIST-S2_score  \\\n",
       "0      ...     0.006359        0.007        0.000953       0.230077   \n",
       "1      ...     0.022658        0.105        0.010884       0.579442   \n",
       "2      ...     0.002278        0.012        0.004718       0.453055   \n",
       "3      ...     0.732046        0.270        0.169499       0.873813   \n",
       "4      ...     0.235624        0.796        0.980166       0.939406   \n",
       "...    ...          ...          ...             ...            ...   \n",
       "34294  ...     0.020687        0.100        0.780054       0.863714   \n",
       "34295  ...     0.293518        0.623        0.934660       0.985301   \n",
       "34296  ...     0.101583        0.363        0.992261       0.960404   \n",
       "34297  ...     0.136988        0.272        0.737025       0.964504   \n",
       "34298  ...     0.006510        0.021        0.132459       0.502950   \n",
       "\n",
       "       CADD_phred_hg19  DANN_score       MPC  primateAI  source  result  \n",
       "0                8.064    0.769905  0.009648   0.376979       0       0  \n",
       "1               14.870    0.972044  0.323833   0.293253       0       0  \n",
       "2                0.014    0.671454  0.295142   0.312391       0       0  \n",
       "3               23.000    0.990862  0.457945   0.942415       0       0  \n",
       "4               24.600    0.998404  1.266766   0.707299       0       1  \n",
       "...                ...         ...       ...        ...     ...     ...  \n",
       "34294           22.500    0.998778  0.246865   0.376200       1       0  \n",
       "34295           22.500    0.997626  1.533473   0.844758       1       0  \n",
       "34296           32.000    0.999141  1.405771   0.674641       1       0  \n",
       "34297           21.800    0.997202  1.281132   0.501935       1       0  \n",
       "34298            0.160    0.587155  0.313288   0.299523       1       0  \n",
       "\n",
       "[34299 rows x 45 columns]"
      ]
     },
     "execution_count": 7,
     "metadata": {},
     "output_type": "execute_result"
    }
   ],
   "source": [
    "alldata"
   ]
  },
  {
   "cell_type": "code",
   "execution_count": 51,
   "metadata": {},
   "outputs": [],
   "source": [
    "original_column = ['SIFT_pred','LRT_pred', 'MA_pred', 'PROVEN_pred', 'SLR_score', 'SIFT_score','LRT_omega', \n",
    "                'MA_score', 'PROVEN_score', 'Grantham', 'HMMEntropy','HMMRelEntropy', 'PredRSAB', 'PredRSAI', \n",
    "                'PredRSAE','PredBFactorF', 'PredBFactorM', 'PredBFactorS', 'PredStabilityH','PredStabilityM', \n",
    "                'PredStabilityL', 'PredSSE', 'PredSSH','PredSSC', 'dscore', 'phyloP_pri', 'phyloP_mam','phyloP_ver',\n",
    "                   'RNA_seq','UNEECON']\n",
    "\n",
    "# the features for comparison (to other supervised score)\n",
    "features = [ 'MetaSVM_score', 'MetaLR_score', 'M-CAP_score', 'REVEL_score','ClinPred_score','CADD_phred_hg19',\n",
    "            'DANN_score', 'MPC', 'primateAI']\n",
    "\n",
    "x_column  = original_column + ['M-CAP_score', 'REVEL_score', 'MPC', 'primateAI']\n",
    "y_column = 'source'\n",
    "\n",
    "\n",
    "def transfer_log1(df, x_col, y_col):\n",
    "    \n",
    "    originaldata = df[df['source'] == 0]\n",
    "    denovo = df[df['source'] ==1] \n",
    "\n",
    "    y = originaldata.loc[:,[y_col]].values.flatten()\n",
    "    X = originaldata.loc[:,x_col]\n",
    "\n",
    "    X_denovo = denovo.loc[:,x_col]\n",
    "    y_denovo = denovo.loc[:,[y_col]].values.flatten()\n",
    "\n",
    "    X_train, X_test, y_train, y_test = train_test_split(X,y, test_size = 0.3, random_state = 42)\n",
    "    Xtrain_denovo, Xtest_denovo, ytrain_denovo, ytest_denovo = train_test_split(X_denovo,y_denovo, test_size = 0.3, random_state = 42)\n",
    "\n",
    "\n",
    "    X_train = pd.concat([X_train, Xtrain_denovo], join= 'inner')\n",
    "    y_train = np.concatenate((y_train, np.full((1,Xtrain_denovo.shape[0]),1).flatten())).flatten()\n",
    "\n",
    "    X_test = pd.concat([X_test, Xtest_denovo], join= 'inner')\n",
    "    y_test = np.concatenate((y_test, np.full((1,Xtest_denovo.shape[0]),1).flatten())).flatten()\n",
    "\n",
    "    regression = LogisticRegression(random_state = 42 , solver = 'lbfgs',max_iter = 150).fit(X_train, y_train)\n",
    "\n",
    "    y_hat = regression.predict_proba(X_test)[:,1]\n",
    "    \n",
    "    print(X_train.shape, X_test.shape)  \n",
    "    print()   \n",
    "    \n",
    "    print(Xtrain_denovo.shape,Xtest_denovo.shape) \n",
    "    print()  #\n",
    "    \n",
    "    #X_train, X_test, y_train, y_test, y_hat, regression = splitNfit(alldata, x_column, y_column, testsize = 0.3)\n",
    "    drawROC(y_test, y_hat, title = 'predicting source (target data and source data)', lastone = True)\n",
    "    \n",
    "    coef_overall = regression.coef_.flatten()\n",
    "    coefficient = pd.DataFrame({'regression':coef_overall}, index = x_col)\n",
    "    print(abs(coefficient['regression']).sort_values())\n",
    "    return(X_train, y_train, X_test,y_test, y_hat)\n",
    "    "
   ]
  },
  {
   "cell_type": "code",
   "execution_count": 37,
   "metadata": {},
   "outputs": [
    {
     "name": "stdout",
     "output_type": "stream",
     "text": [
      "(24009, 34) (10290, 34)\n",
      "\n",
      "(2960, 34) (1269, 34)\n",
      "\n"
     ]
    },
    {
     "data": {
      "image/png": "[encoded data removed]",
      "text/plain": [
       "<Figure size 432x288 with 1 Axes>"
      ]
     },
     "metadata": {
      "needs_background": "light"
     },
     "output_type": "display_data"
    },
    {
     "name": "stdout",
     "output_type": "stream",
     "text": [
      "PredBFactorM      0.007523\n",
      "PredStabilityL    0.009006\n",
      "LRT_omega         0.010164\n",
      "Grantham          0.011464\n",
      "PredStabilityH    0.017530\n",
      "PredBFactorS      0.026575\n",
      "SLR_score         0.027103\n",
      "PredBFactorF      0.032211\n",
      "PredStabilityM    0.047413\n",
      "LRT_pred          0.049650\n",
      "HMMRelEntropy     0.049845\n",
      "dscore            0.060193\n",
      "phyloP_mam        0.095334\n",
      "SIFT_score        0.140003\n",
      "RNA_seq           0.143532\n",
      "SIFT_pred         0.153437\n",
      "PredRSAB          0.160142\n",
      "PredRSAI          0.170486\n",
      "phyloP_ver        0.191533\n",
      "PROVEN_pred       0.202877\n",
      "MPC               0.213827\n",
      "phyloP_pri        0.214248\n",
      "HMMEntropy        0.261776\n",
      "PredSSC           0.315596\n",
      "PredRSAE          0.329457\n",
      "MA_score          0.415670\n",
      "PROVEN_score      0.417778\n",
      "MA_pred           0.418761\n",
      "PredSSH           0.566652\n",
      "primateAI         0.803338\n",
      "UNEECON           0.907559\n",
      "PredSSE           0.917526\n",
      "M-CAP_score       2.580424\n",
      "REVEL_score       4.509953\n",
      "Name: regression, dtype: float64\n"
     ]
    }
   ],
   "source": [
    "transfer_log1(alldata, x_column, y_column)"
   ]
  },
  {
   "cell_type": "code",
   "execution_count": 44,
   "metadata": {},
   "outputs": [
    {
     "name": "stdout",
     "output_type": "stream",
     "text": [
      "(24009, 21) (10290, 21)\n",
      "\n",
      "(2960, 21) (1269, 21)\n",
      "\n"
     ]
    },
    {
     "data": {
      "image/png": "[encoded data removed]",
      "text/plain": [
       "<Figure size 432x288 with 1 Axes>"
      ]
     },
     "metadata": {
      "needs_background": "light"
     },
     "output_type": "display_data"
    },
    {
     "name": "stdout",
     "output_type": "stream",
     "text": [
      "SIFT_score      0.138118\n",
      "RNA_seq         0.141877\n",
      "PredRSAB        0.143751\n",
      "phyloP_ver      0.145203\n",
      "SIFT_pred       0.165458\n",
      "PredRSAI        0.188357\n",
      "PROVEN_pred     0.195435\n",
      "MPC             0.207797\n",
      "HMMEntropy      0.213761\n",
      "phyloP_pri      0.243537\n",
      "PredSSC         0.302835\n",
      "PredRSAE        0.333357\n",
      "MA_pred         0.414590\n",
      "MA_score        0.427960\n",
      "PROVEN_score    0.433301\n",
      "PredSSH         0.554571\n",
      "primateAI       0.811166\n",
      "PredSSE         0.903253\n",
      "UNEECON         0.908434\n",
      "M-CAP_score     2.591726\n",
      "REVEL_score     4.449346\n",
      "Name: regression, dtype: float64\n"
     ]
    }
   ],
   "source": [
    "#remove last 5\n",
    "original_test = ['SIFT_pred','MA_pred', 'PROVEN_pred',  'SIFT_score', \n",
    "                'MA_score', 'PROVEN_score', 'HMMEntropy','PredRSAB', 'PredRSAI', \n",
    "                'PredRSAE', \n",
    "                 'PredSSE', 'PredSSH','PredSSC',  'phyloP_pri','phyloP_ver',\n",
    "                   'RNA_seq','UNEECON']\n",
    "\n",
    "# the features for comparison (to other supervised score)\n",
    "features = [ 'MetaSVM_score', 'MetaLR_score', 'M-CAP_score', 'REVEL_score','ClinPred_score','CADD_phred_hg19',\n",
    "            'DANN_score', 'MPC', 'primateAI']\n",
    "\n",
    "x_column  = original_test + ['M-CAP_score', 'REVEL_score', 'MPC', 'primateAI']\n",
    "transfer_log1(alldata, x_column, y_column)"
   ]
  },
  {
   "cell_type": "code",
   "execution_count": 113,
   "metadata": {},
   "outputs": [
    {
     "name": "stdout",
     "output_type": "stream",
     "text": [
      "(24009, 3) (10290, 3)\n",
      "\n",
      "(2960, 3) (1269, 3)\n",
      "\n"
     ]
    },
    {
     "data": {
      "image/png": "[encoded data removed]",
      "text/plain": [
       "<Figure size 432x288 with 1 Axes>"
      ]
     },
     "metadata": {
      "needs_background": "light"
     },
     "output_type": "display_data"
    },
    {
     "name": "stdout",
     "output_type": "stream",
     "text": [
      "PredSSE      0.034706\n",
      "UNEECON      0.208168\n",
      "primateAI    1.200115\n",
      "Name: regression, dtype: float64\n"
     ]
    }
   ],
   "source": [
    "#top 5\n",
    "top = transfer_log1(alldata, ['MPC','UNEECON','PredSSE','primateAI'], y_column)"
   ]
  },
  {
   "cell_type": "code",
   "execution_count": 88,
   "metadata": {},
   "outputs": [
    {
     "data": {
      "image/png": "[encoded data removed]",
      "text/plain": [
       "<Figure size 432x288 with 1 Axes>"
      ]
     },
     "metadata": {
      "needs_background": "light"
     },
     "output_type": "display_data"
    }
   ],
   "source": [
    "#clinvar + DDD\n",
    "instance_weight = top[4]/(1-top[4])\n",
    "instance_weight = instance_weight[:top[2].shape[0]]\n",
    "\n",
    "# remove testing data that come from denovo set\n",
    "ytest_denovo.shape \n",
    "#only clinvar\n",
    "instance_weight_new = instance_weight[:9021]\n",
    "instance_weight_new.shape #10290\n",
    "\n",
    "\n",
    "y_hat_new = top[4][:9021]\n",
    "\n",
    "plt.scatter(y_hat_new, instance_weight_new)\n",
    "plt.show()\n",
    "#plt.plot(instance_weight)\n",
    "plt.show()\n",
    "#np.count_nonzero(np.around(instance_weight))\n"
   ]
  },
  {
   "cell_type": "code",
   "execution_count": 73,
   "metadata": {},
   "outputs": [
    {
     "data": {
      "text/plain": [
       "(array([8.247e+03, 5.550e+02, 1.280e+02, 4.900e+01, 2.800e+01, 7.000e+00,\n",
       "        3.000e+00, 1.000e+00, 2.000e+00, 1.000e+00]),\n",
       " array([2.31737872e-03, 3.11271571e-01, 6.20225763e-01, 9.29179956e-01,\n",
       "        1.23813415e+00, 1.54708834e+00, 1.85604253e+00, 2.16499672e+00,\n",
       "        2.47395092e+00, 2.78290511e+00, 3.09185930e+00]),\n",
       " <a list of 10 Patch objects>)"
      ]
     },
     "execution_count": 73,
     "metadata": {},
     "output_type": "execute_result"
    },
    {
     "data": {
      "image/png": "[encoded data removed]",
      "text/plain": [
       "<Figure size 432x288 with 1 Axes>"
      ]
     },
     "metadata": {
      "needs_background": "light"
     },
     "output_type": "display_data"
    }
   ],
   "source": [
    "plt.hist(instance_weight_new)"
   ]
  },
  {
   "cell_type": "code",
   "execution_count": 90,
   "metadata": {
    "collapsed": true
   },
   "outputs": [],
   "source": [
    "#compute class weight\n",
    "originaldata = alldata[alldata['source'] == 0] #46787\n",
    "denovo = alldata[alldata['source'] ==1] \n",
    "\n",
    "Xtrain_denovo.shape\n",
    "\n",
    "Xtrain.shape\n",
    "classweight = {1:Xtrain.shape[0]/(Xtrain_denovo.shape[0]+Xtrain.shape[0]), 0:Xtrain_denovo.shape[0]/(Xtrain_denovo.shape[0]+Xtrain.shape[0])}"
   ]
  },
  {
   "cell_type": "code",
   "execution_count": 63,
   "metadata": {},
   "outputs": [
    {
     "data": {
      "text/plain": [
       "{1: 0.8767128993294181, 0: 0.12328710067058186}"
      ]
     },
     "execution_count": 63,
     "metadata": {},
     "output_type": "execute_result"
    }
   ],
   "source": [
    "classweight"
   ]
  },
  {
   "cell_type": "code",
   "execution_count": 66,
   "metadata": {},
   "outputs": [
    {
     "data": {
      "text/plain": [
       "(9021,)"
      ]
     },
     "execution_count": 66,
     "metadata": {},
     "output_type": "execute_result"
    }
   ],
   "source": [
    "ytest.shape"
   ]
  },
  {
   "cell_type": "code",
   "execution_count": 99,
   "metadata": {},
   "outputs": [],
   "source": [
    "# training data here\n",
    "\n",
    "#x_column = ['REVEL_score', 'M-CAP_score','UNEECON','PredSSE', 'primateAI']\n",
    "x_column  = ['MPC','UNEECON','PredSSE','primateAI']\n",
    "X = originaldata.loc[:,x_column]\n",
    "y = originaldata.loc[:,['result']].values.flatten()\n",
    "Xtrain, Xtest, ytrain, ytest = train_test_split(X,y, test_size = 0.3, random_state = 42)\n",
    "\n",
    "denovo = pd.read_csv('denovo_data.csv', sep = '\\t')\n",
    "X_test_denovo = denovo.loc[:,x_column]\n",
    "y_test_denovo = denovo.loc[:,['result']].values.flatten()\n",
    "\n",
    "\n",
    "# fit denovo data using training data with instance weight\n",
    "transfer_LGR = LogisticRegression(random_state = 42 , solver = 'lbfgs', class_weight = classweight).fit(Xtest, ytest, sample_weight = instance_weight_new)\n",
    "y_hat_denovo = transfer_LGR.predict_proba(X_test_denovo)[:,1]\n",
    "\n",
    "LGR = LogisticRegression(random_state = 42 , solver = 'lbfgs').fit(Xtest, ytest)\n",
    "y_hat_denovo_ori = LGR.predict_proba(X_test_denovo)[:,1]\n",
    "\n",
    "LGR2 = LogisticRegression(random_state = 42 , solver = 'lbfgs',max_iter = 150).fit(Xtrain, ytrain)\n",
    "y_hat_denovo_ori2 = LGR2.predict_proba(X_test_denovo)[:,1]"
   ]
  },
  {
   "cell_type": "code",
   "execution_count": 100,
   "metadata": {},
   "outputs": [
    {
     "data": {
      "text/plain": [
       "PredSSE      0.554200\n",
       "MPC          0.825971\n",
       "UNEECON      1.306826\n",
       "primateAI    1.908751\n",
       "Name: regression, dtype: float64"
      ]
     },
     "execution_count": 100,
     "metadata": {},
     "output_type": "execute_result"
    }
   ],
   "source": [
    "coef_overall = transfer_LGR.coef_.flatten()\n",
    "coefficient = pd.DataFrame({'regression':coef_overall}, index = x_column)\n",
    "coefficient['regression'].sort_values()"
   ]
  },
  {
   "cell_type": "code",
   "execution_count": 106,
   "metadata": {},
   "outputs": [
    {
     "data": {
      "text/html": [
       "<div>\n",
       "<style scoped>\n",
       "    .dataframe tbody tr th:only-of-type {\n",
       "        vertical-align: middle;\n",
       "    }\n",
       "\n",
       "    .dataframe tbody tr th {\n",
       "        vertical-align: top;\n",
       "    }\n",
       "\n",
       "    .dataframe thead th {\n",
       "        text-align: right;\n",
       "    }\n",
       "</style>\n",
       "<table border=\"1\" class=\"dataframe\">\n",
       "  <thead>\n",
       "    <tr style=\"text-align: right;\">\n",
       "      <th></th>\n",
       "      <th>MPC</th>\n",
       "      <th>UNEECON</th>\n",
       "    </tr>\n",
       "  </thead>\n",
       "  <tbody>\n",
       "    <tr>\n",
       "      <td>0</td>\n",
       "      <td>0.009648</td>\n",
       "      <td>-0.890704</td>\n",
       "    </tr>\n",
       "    <tr>\n",
       "      <td>1</td>\n",
       "      <td>0.323833</td>\n",
       "      <td>-0.831608</td>\n",
       "    </tr>\n",
       "    <tr>\n",
       "      <td>2</td>\n",
       "      <td>0.295142</td>\n",
       "      <td>-0.891344</td>\n",
       "    </tr>\n",
       "    <tr>\n",
       "      <td>3</td>\n",
       "      <td>0.457945</td>\n",
       "      <td>-0.652195</td>\n",
       "    </tr>\n",
       "    <tr>\n",
       "      <td>4</td>\n",
       "      <td>1.266766</td>\n",
       "      <td>-0.322466</td>\n",
       "    </tr>\n",
       "    <tr>\n",
       "      <td>...</td>\n",
       "      <td>...</td>\n",
       "      <td>...</td>\n",
       "    </tr>\n",
       "    <tr>\n",
       "      <td>34294</td>\n",
       "      <td>0.246865</td>\n",
       "      <td>0.029321</td>\n",
       "    </tr>\n",
       "    <tr>\n",
       "      <td>34295</td>\n",
       "      <td>1.533473</td>\n",
       "      <td>0.193517</td>\n",
       "    </tr>\n",
       "    <tr>\n",
       "      <td>34296</td>\n",
       "      <td>1.405771</td>\n",
       "      <td>0.367558</td>\n",
       "    </tr>\n",
       "    <tr>\n",
       "      <td>34297</td>\n",
       "      <td>1.281132</td>\n",
       "      <td>0.488870</td>\n",
       "    </tr>\n",
       "    <tr>\n",
       "      <td>34298</td>\n",
       "      <td>0.313288</td>\n",
       "      <td>0.017356</td>\n",
       "    </tr>\n",
       "  </tbody>\n",
       "</table>\n",
       "<p>34299 rows × 2 columns</p>\n",
       "</div>"
      ],
      "text/plain": [
       "            MPC   UNEECON\n",
       "0      0.009648 -0.890704\n",
       "1      0.323833 -0.831608\n",
       "2      0.295142 -0.891344\n",
       "3      0.457945 -0.652195\n",
       "4      1.266766 -0.322466\n",
       "...         ...       ...\n",
       "34294  0.246865  0.029321\n",
       "34295  1.533473  0.193517\n",
       "34296  1.405771  0.367558\n",
       "34297  1.281132  0.488870\n",
       "34298  0.313288  0.017356\n",
       "\n",
       "[34299 rows x 2 columns]"
      ]
     },
     "execution_count": 106,
     "metadata": {},
     "output_type": "execute_result"
    }
   ],
   "source": [
    "alldata[['MPC','UNEECON']]\n"
   ]
  },
  {
   "cell_type": "code",
   "execution_count": 111,
   "metadata": {},
   "outputs": [
    {
     "data": {
      "text/plain": [
       "0.6204394322829022"
      ]
     },
     "execution_count": 111,
     "metadata": {},
     "output_type": "execute_result"
    }
   ],
   "source": [
    "np.corrcoef(alldata['MPC'], alldata['UNEECON'])[1][0]  #0.73\n",
    "np.corrcoef(alldata['primateAI'], alldata['UNEECON'])[1][0] #0.66\n",
    "np.corrcoef(alldata['primateAI'], alldata['MPC'])[1][0] #0.62"
   ]
  },
  {
   "cell_type": "code",
   "execution_count": 77,
   "metadata": {},
   "outputs": [
    {
     "data": {
      "image/png": "[encoded data removed]",
      "text/plain": [
       "<Figure size 432x288 with 1 Axes>"
      ]
     },
     "metadata": {
      "needs_background": "light"
     },
     "output_type": "display_data"
    }
   ],
   "source": [
    "drawROC(y_test_denovo, y_hat_denovo, label = 'transfer learning (LGR)')\n",
    "drawROC(y_test_denovo, y_hat_denovo_ori, label = 'LGR(test)')\n",
    "drawROC(y_test_denovo, y_hat_denovo_ori2, label = 'LGR(train)', lastone = True)\n"
   ]
  },
  {
   "cell_type": "code",
   "execution_count": 78,
   "metadata": {
    "collapsed": true
   },
   "outputs": [],
   "source": [
    "def enrichment(df, portion, features, log = True, plot = True):\n",
    "    num = int(df.shape[0]*portion*0.01)\n",
    "    oddsratios = []\n",
    "    errors = []\n",
    "    for i in features:\n",
    "    \n",
    "        df[i] = pd.to_numeric(df[i])\n",
    "        top = np.sum(df.nlargest(num,i)['result']) \n",
    "        array1 = [top, num-top]\n",
    "              \n",
    "        tail = np.sum(df.nsmallest(df.shape[0]-num,i)['result'])\n",
    "        array2 = [tail, df.shape[0]-num-tail]\n",
    "\n",
    "        \n",
    "        result = sm.stats.Table2x2(np.asarray([array1, array2])).oddsratio\n",
    "    \n",
    "        if(log == True):\n",
    "            result = math.log2(result)\n",
    "            #result = math.log(result)\n",
    "        #print(result)\n",
    "        oddsratios.append(result)\n",
    "\n",
    "        # check\n",
    "        #print((top/(num-top))/(tail/(df.shape[0]-num-tail)))\n",
    "        \n",
    "\n",
    "        # change of base\n",
    "        error = math.sqrt(1/top + 1/(num-top) + 1/tail + 1/(df.shape[0]-num-tail))* math.log2(math.e)\n",
    "        #error = math.sqrt(1/top + 1/(num-top) + 1/tail + 1/(df.shape[0]-num-tail))\n",
    "        errors.append(error)\n",
    "     \n",
    "    # Build the plot\n",
    "    if(plot == True):\n",
    "        fig, sub = plt.subplots(figsize=(18, 7))\n",
    "    \n",
    "        sub.bar(features, oddsratios,yerr=errors, align='center', alpha=0.5, ecolor='black', capsize=5)\n",
    "   \n",
    "        plt.ylabel(\"log2 enrichment of proband denovo data\")\n",
    "    \n",
    "        plt.title(\"enrichment test, enrichment level = %s percent\"%portion)\n",
    "    \n",
    "        plt.show()\n",
    "            \n",
    "    return(oddsratios, np.asarray([array1,array2]))    \n"
   ]
  },
  {
   "cell_type": "code",
   "execution_count": 101,
   "metadata": {},
   "outputs": [
    {
     "data": {
      "image/png": "[encoded data removed]",
      "text/plain": [
       "<Figure size 1296x504 with 1 Axes>"
      ]
     },
     "metadata": {
      "needs_background": "light"
     },
     "output_type": "display_data"
    },
    {
     "data": {
      "text/plain": [
       "([0.7985770495863673,\n",
       "  0.7508025788938524,\n",
       "  1.302620100256085,\n",
       "  1.7939876983197751,\n",
       "  0.8472001751490479,\n",
       "  0.5599316239068575,\n",
       "  1.61855566831108,\n",
       "  1.8331504758085617,\n",
       "  1.7591187364047565,\n",
       "  1.7957991853248496],\n",
       " array([[ 376,   46],\n",
       "        [2672, 1135]]))"
      ]
     },
     "execution_count": 101,
     "metadata": {},
     "output_type": "execute_result"
    }
   ],
   "source": [
    "features = ['MetaSVM_score', 'MetaLR_score', 'M-CAP_score', 'MPC','REVEL_score','CADD_phred_hg19','primateAI']\n",
    "\n",
    "denovo['LGR_original'],denovo['LGR_transfer'] = [y_hat_denovo_ori,y_hat_denovo]\n",
    "\n",
    "features = features + ['LGR_original', 'LGR_transfer', 'UNEECON']\n",
    "\n",
    "enrichment(denovo,10, features)"
   ]
  },
  {
   "cell_type": "code",
   "execution_count": 75,
   "metadata": {},
   "outputs": [
    {
     "data": {
      "text/html": [
       "<div>\n",
       "<style scoped>\n",
       "    .dataframe tbody tr th:only-of-type {\n",
       "        vertical-align: middle;\n",
       "    }\n",
       "\n",
       "    .dataframe tbody tr th {\n",
       "        vertical-align: top;\n",
       "    }\n",
       "\n",
       "    .dataframe thead th {\n",
       "        text-align: right;\n",
       "    }\n",
       "</style>\n",
       "<table border=\"1\" class=\"dataframe\">\n",
       "  <thead>\n",
       "    <tr style=\"text-align: right;\">\n",
       "      <th></th>\n",
       "      <th>our_model</th>\n",
       "      <th>LGR_transfer</th>\n",
       "    </tr>\n",
       "  </thead>\n",
       "  <tbody>\n",
       "    <tr>\n",
       "      <td>0</td>\n",
       "      <td>0.953930</td>\n",
       "      <td>0.125232</td>\n",
       "    </tr>\n",
       "    <tr>\n",
       "      <td>1</td>\n",
       "      <td>-1.322858</td>\n",
       "      <td>0.019479</td>\n",
       "    </tr>\n",
       "    <tr>\n",
       "      <td>2</td>\n",
       "      <td>-1.945298</td>\n",
       "      <td>0.004796</td>\n",
       "    </tr>\n",
       "    <tr>\n",
       "      <td>3</td>\n",
       "      <td>-2.947545</td>\n",
       "      <td>0.004680</td>\n",
       "    </tr>\n",
       "    <tr>\n",
       "      <td>4</td>\n",
       "      <td>-1.404344</td>\n",
       "      <td>0.016560</td>\n",
       "    </tr>\n",
       "    <tr>\n",
       "      <td>...</td>\n",
       "      <td>...</td>\n",
       "      <td>...</td>\n",
       "    </tr>\n",
       "    <tr>\n",
       "      <td>5980</td>\n",
       "      <td>-0.066988</td>\n",
       "      <td>0.092738</td>\n",
       "    </tr>\n",
       "    <tr>\n",
       "      <td>5981</td>\n",
       "      <td>-2.683431</td>\n",
       "      <td>0.007082</td>\n",
       "    </tr>\n",
       "    <tr>\n",
       "      <td>5982</td>\n",
       "      <td>-1.131317</td>\n",
       "      <td>0.008011</td>\n",
       "    </tr>\n",
       "    <tr>\n",
       "      <td>5983</td>\n",
       "      <td>-2.846104</td>\n",
       "      <td>0.008747</td>\n",
       "    </tr>\n",
       "    <tr>\n",
       "      <td>5984</td>\n",
       "      <td>-2.725206</td>\n",
       "      <td>0.009846</td>\n",
       "    </tr>\n",
       "  </tbody>\n",
       "</table>\n",
       "<p>5985 rows × 2 columns</p>\n",
       "</div>"
      ],
      "text/plain": [
       "      our_model  LGR_transfer\n",
       "0      0.953930      0.125232\n",
       "1     -1.322858      0.019479\n",
       "2     -1.945298      0.004796\n",
       "3     -2.947545      0.004680\n",
       "4     -1.404344      0.016560\n",
       "...         ...           ...\n",
       "5980  -0.066988      0.092738\n",
       "5981  -2.683431      0.007082\n",
       "5982  -1.131317      0.008011\n",
       "5983  -2.846104      0.008747\n",
       "5984  -2.725206      0.009846\n",
       "\n",
       "[5985 rows x 2 columns]"
      ]
     },
     "execution_count": 75,
     "metadata": {},
     "output_type": "execute_result"
    }
   ],
   "source": [
    "denovo[['our_model','LGR_transfer']]"
   ]
  },
  {
   "cell_type": "code",
   "execution_count": 241,
   "metadata": {},
   "outputs": [
    {
     "data": {
      "image/png": "[encoded data removed]",
      "text/plain": [
       "<Figure size 432x288 with 1 Axes>"
      ]
     },
     "metadata": {
      "needs_background": "light"
     },
     "output_type": "display_data"
    }
   ],
   "source": [
    "\n",
    "print(enrichment(denovo, 10, ['LGR_transfer'], plot = False))\n",
    "enrichment(denovo, 10, ['our_model'], plot = False)\n",
    "drawROC(y_test_denovo, y_hat_denovo, label = 'LGR_transfer')\n",
    "drawROC(denovo_gb[0], denovo_gb [1], label = 'our model', lastone = True, title = 'comparison')"
   ]
  },
  {
   "cell_type": "code",
   "execution_count": 79,
   "metadata": {},
   "outputs": [
    {
     "name": "stdout",
     "output_type": "stream",
     "text": [
      "# Tuning hyper-parameters for recall\n",
      "\n"
     ]
    },
    {
     "name": "stderr",
     "output_type": "stream",
     "text": [
      "/storage/home/jkl5991/.conda/envs/sanEnv/lib/python3.6/site-packages/sklearn/model_selection/_split.py:1978: FutureWarning: The default value of cv will change from 3 to 5 in version 0.22. Specify it explicitly to silence this warning.\n",
      "  warnings.warn(CV_WARNING, FutureWarning)\n"
     ]
    },
    {
     "name": "stdout",
     "output_type": "stream",
     "text": [
      "Best parameters set found on development set:\n",
      "{'learning_rate': 0.05, 'max_depth': 3, 'n_estimators': 100}\n",
      "With score : 0.870\n",
      "\n",
      "Grid scores on development set:\n",
      "\n",
      "0.870 (+/-0.006) for {'learning_rate': 0.05, 'max_depth': 3, 'n_estimators': 100}\n",
      "0.868 (+/-0.010) for {'learning_rate': 0.05, 'max_depth': 3, 'n_estimators': 150}\n",
      "0.867 (+/-0.014) for {'learning_rate': 0.05, 'max_depth': 3, 'n_estimators': 200}\n",
      "0.857 (+/-0.009) for {'learning_rate': 0.05, 'max_depth': 5, 'n_estimators': 100}\n",
      "0.858 (+/-0.011) for {'learning_rate': 0.05, 'max_depth': 5, 'n_estimators': 150}\n",
      "0.856 (+/-0.005) for {'learning_rate': 0.05, 'max_depth': 5, 'n_estimators': 200}\n",
      "0.852 (+/-0.001) for {'learning_rate': 0.05, 'max_depth': 8, 'n_estimators': 100}\n",
      "0.856 (+/-0.009) for {'learning_rate': 0.05, 'max_depth': 8, 'n_estimators': 150}\n",
      "0.859 (+/-0.007) for {'learning_rate': 0.05, 'max_depth': 8, 'n_estimators': 200}\n",
      "0.864 (+/-0.006) for {'learning_rate': 0.1, 'max_depth': 3, 'n_estimators': 100}\n",
      "0.863 (+/-0.001) for {'learning_rate': 0.1, 'max_depth': 3, 'n_estimators': 150}\n",
      "0.862 (+/-0.000) for {'learning_rate': 0.1, 'max_depth': 3, 'n_estimators': 200}\n",
      "0.861 (+/-0.013) for {'learning_rate': 0.1, 'max_depth': 5, 'n_estimators': 100}\n",
      "0.858 (+/-0.005) for {'learning_rate': 0.1, 'max_depth': 5, 'n_estimators': 150}\n",
      "0.858 (+/-0.013) for {'learning_rate': 0.1, 'max_depth': 5, 'n_estimators': 200}\n",
      "0.854 (+/-0.003) for {'learning_rate': 0.1, 'max_depth': 8, 'n_estimators': 100}\n",
      "0.855 (+/-0.006) for {'learning_rate': 0.1, 'max_depth': 8, 'n_estimators': 150}\n",
      "0.858 (+/-0.001) for {'learning_rate': 0.1, 'max_depth': 8, 'n_estimators': 200}\n",
      "0.868 (+/-0.011) for {'learning_rate': 0.15, 'max_depth': 3, 'n_estimators': 100}\n",
      "0.860 (+/-0.009) for {'learning_rate': 0.15, 'max_depth': 3, 'n_estimators': 150}\n",
      "0.859 (+/-0.008) for {'learning_rate': 0.15, 'max_depth': 3, 'n_estimators': 200}\n",
      "0.856 (+/-0.011) for {'learning_rate': 0.15, 'max_depth': 5, 'n_estimators': 100}\n",
      "0.858 (+/-0.011) for {'learning_rate': 0.15, 'max_depth': 5, 'n_estimators': 150}\n",
      "0.857 (+/-0.008) for {'learning_rate': 0.15, 'max_depth': 5, 'n_estimators': 200}\n",
      "0.856 (+/-0.005) for {'learning_rate': 0.15, 'max_depth': 8, 'n_estimators': 100}\n",
      "0.860 (+/-0.005) for {'learning_rate': 0.15, 'max_depth': 8, 'n_estimators': 150}\n",
      "0.854 (+/-0.000) for {'learning_rate': 0.15, 'max_depth': 8, 'n_estimators': 200}\n",
      "\n",
      "Detailed classification report:\n",
      "\n",
      "The model is trained on the full development set.\n",
      "\n"
     ]
    }
   ],
   "source": [
    "# gb + sample weight\n",
    "\n",
    "\n",
    "Xtraindb, Xtestdb, ytraindb, ytestdb = train_test_split(X,y, test_size = 0.3, random_state = 42)\n",
    "\n",
    "\n",
    "tuned_parameters = {\"learning_rate\" : [0.05,0.1,0.15], \n",
    "                   \"n_estimators\": [100,150,200],\n",
    "                    \"max_depth\": [3,5,8]}\n",
    "\n",
    "tuning(Xvalid, yvaliddb, 'gradient boosting', tuned_parameters)\n",
    "\n",
    "\n"
   ]
  },
  {
   "cell_type": "code",
   "execution_count": 153,
   "metadata": {},
   "outputs": [
    {
     "data": {
      "image/png": "[encoded data removed]",
      "text/plain": [
       "<Figure size 432x288 with 1 Axes>"
      ]
     },
     "metadata": {
      "needs_background": "light"
     },
     "output_type": "display_data"
    }
   ],
   "source": [
    "denovo_gb_transfer = GradientBoosting = GradientBoostingClassifier(learning_rate = 0.05, max_depth = 3, n_estimators = 100, subsample = 1)\n",
    "denovo_gb_transfer = denovo_gb_transfer.fit(Xtestdb, ytestdb, sample_weight = instance_weight_new)\n",
    "yhat_gb_transfer = denovo_gb_transfer.decision_function(X_test_denovo)\n",
    "\n",
    "\n",
    "drawROC(denovo_gb[0], denovo_gb[1], label = 'gb')\n",
    "drawROC(y_test_denovo, yhat_gb_transfer, label = 'gb_transfer', lastone = True, title = 'gb')\n"
   ]
  },
  {
   "cell_type": "code",
   "execution_count": 154,
   "metadata": {},
   "outputs": [
    {
     "data": {
      "image/png": "[encoded data removed]",
      "text/plain": [
       "<Figure size 1296x504 with 1 Axes>"
      ]
     },
     "metadata": {
      "needs_background": "light"
     },
     "output_type": "display_data"
    },
    {
     "data": {
      "text/plain": [
       "([1.1358827463279577,\n",
       "  1.096848432033386,\n",
       "  1.7408660086950296,\n",
       "  1.4500995490997357,\n",
       "  1.0775634858238041,\n",
       "  0.7117291887539086,\n",
       "  0.4787694421295965,\n",
       "  1.8199683038704768,\n",
       "  1.7932577377719028,\n",
       "  1.5912078149529205,\n",
       "  2.606006297511022,\n",
       "  1.639914811778186],\n",
       " array([[ 528,   70],\n",
       "        [3812, 1575]]))"
      ]
     },
     "execution_count": 154,
     "metadata": {},
     "output_type": "execute_result"
    }
   ],
   "source": [
    "features.append('gb_transfer')\n",
    "denovo['gb_transfer'] = yhat_gb_transfer\n",
    "enrichment(denovo,10, features)"
   ]
  },
  {
   "cell_type": "code",
   "execution_count": null,
   "metadata": {
    "collapsed": true
   },
   "outputs": [],
   "source": []
  },
  {
   "cell_type": "code",
   "execution_count": null,
   "metadata": {
    "collapsed": true
   },
   "outputs": [],
   "source": []
  },
  {
   "cell_type": "code",
   "execution_count": null,
   "metadata": {
    "collapsed": true
   },
   "outputs": [],
   "source": []
  },
  {
   "cell_type": "code",
   "execution_count": null,
   "metadata": {
    "collapsed": true
   },
   "outputs": [],
   "source": []
  },
  {
   "cell_type": "code",
   "execution_count": null,
   "metadata": {
    "collapsed": true
   },
   "outputs": [],
   "source": []
  },
  {
   "cell_type": "code",
   "execution_count": null,
   "metadata": {
    "collapsed": true
   },
   "outputs": [],
   "source": []
  },
  {
   "cell_type": "code",
   "execution_count": null,
   "metadata": {
    "collapsed": true
   },
   "outputs": [],
   "source": []
  },
  {
   "cell_type": "code",
   "execution_count": null,
   "metadata": {
    "collapsed": true
   },
   "outputs": [],
   "source": []
  }
 ],
 "metadata": {
  "kernelspec": {
   "display_name": "Python (sanEnv)",
   "language": "python",
   "name": "sanenv"
  },
  "language_info": {
   "codemirror_mode": {
    "name": "ipython",
    "version": 3
   },
   "file_extension": ".py",
   "mimetype": "text/x-python",
   "name": "python",
   "nbconvert_exporter": "python",
   "pygments_lexer": "ipython3",
   "version": "3.6.9"
  }
 },
 "nbformat": 4,
 "nbformat_minor": 2
}
