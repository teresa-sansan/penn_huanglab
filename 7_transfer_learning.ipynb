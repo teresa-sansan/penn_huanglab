{
 "cells": [
  {
   "cell_type": "code",
   "execution_count": 1,
   "metadata": {
    "collapsed": true
   },
   "outputs": [],
   "source": [
    "import pandas as pd\n",
    "import numpy as np\n",
    "import matplotlib.pyplot as plt\n",
    "from sklearn.linear_model import LogisticRegression, RidgeClassifier, Lasso\n",
    "from sklearn.metrics import roc_auc_score, auc, roc_curve, confusion_matrix\n",
    "from sklearn.model_selection import cross_val_score, train_test_split, StratifiedKFold, GridSearchCV\n",
    "from sklearn.metrics import classification_report\n",
    "from test_function import *\n",
    "import random\n",
    "from sklearn.svm import SVC\n",
    "from sklearn.model_selection import GridSearchCV\n",
    "from test_function import *\n",
    "from sklearn.ensemble import GradientBoostingClassifier\n",
    "import math\n",
    "import scipy.stats as stats\n",
    "import statsmodels.api as sm\n",
    "import pylab as pl"
   ]
  },
  {
   "cell_type": "code",
   "execution_count": 2,
   "metadata": {
    "collapsed": true
   },
   "outputs": [],
   "source": [
    "alldata = pd.read_csv('allmodel_denovo.csv', sep = '\\t')"
   ]
  },
  {
   "cell_type": "code",
   "execution_count": 146,
   "metadata": {},
   "outputs": [],
   "source": [
    "original_column = ['SIFT_pred','LRT_pred', 'MA_pred', 'PROVEN_pred', 'SLR_score', 'SIFT_score','LRT_omega', \n",
    "                'MA_score', 'PROVEN_score', 'Grantham', 'HMMEntropy','HMMRelEntropy', 'PredRSAB', 'PredRSAI', \n",
    "                'PredRSAE','PredBFactorF', 'PredBFactorM', 'PredBFactorS', 'PredStabilityH','PredStabilityM', \n",
    "                'PredStabilityL', 'PredSSE', 'PredSSH','PredSSC', 'dscore', 'phyloP_pri', 'phyloP_mam','phyloP_ver',\n",
    "                   'RNA_seq','UNEECON']\n",
    "\n",
    "# the features for comparison (to other supervised score)\n",
    "features = [ 'MetaSVM_score', 'MetaLR_score', 'M-CAP_score', 'REVEL_score','ClinPred_score','CADD_phred_hg19',\n",
    "            'DANN_score']\n",
    "\n",
    "x_column  = original_column + ['M-CAP_score', 'REVEL_score']\n",
    "y_column = 'source'\n",
    "\n",
    "\n",
    "originaldata = alldata[alldata['source'] == 0] #46787\n",
    "denovo = alldata[alldata['source'] ==1] #5985\n",
    "\n",
    "y = originaldata.loc[:,[y_column]].values.flatten()\n",
    "X = originaldata.loc[:,x_column]\n",
    "\n",
    "X_denovo = denovo.loc[:,x_column]\n",
    "y_denovo = denovo.loc[:,[y_column]].values.flatten()\n",
    "\n",
    "X_train, X_test, y_train, y_test = train_test_split(X,y, test_size = 0.3, random_state = 42)\n",
    "Xtrain_denovo, Xtest_denovo, ytrain_denovo, ytest_denovo = train_test_split(X_denovo,y_denovo, test_size = 0.3, random_state = 42)\n",
    "\n",
    "\n",
    "X_train = pd.concat([X_train, Xtrain_denovo], join= 'inner')\n",
    "y_train = np.concatenate((y_train, np.full((1,4189),1).flatten())).flatten()\n",
    "\n",
    "X_test = pd.concat([X_test, Xtest_denovo], join= 'inner')\n",
    "y_test = np.concatenate((y_test, np.full((1,1796),1).flatten())).flatten()\n",
    "\n",
    "regression = LogisticRegression(random_state = 42 , solver = 'lbfgs',max_iter = 150).fit(X_train, y_train)\n",
    "\n",
    "y_hat = regression.predict_proba(X_test)[:,1]"
   ]
  },
  {
   "cell_type": "code",
   "execution_count": 94,
   "metadata": {},
   "outputs": [
    {
     "name": "stdout",
     "output_type": "stream",
     "text": [
      "(36939, 32)\n",
      "(15833, 32)\n",
      "(4189, 32)\n",
      "(1796, 32)\n"
     ]
    }
   ],
   "source": [
    "print(X_train.shape)  #36939\n",
    "print(X_test.shape)   #15833\n",
    "\n",
    "print(Xtrain_denovo.shape) #4189\n",
    "print(Xtest_denovo.shape)  #1796"
   ]
  },
  {
   "cell_type": "code",
   "execution_count": 147,
   "metadata": {},
   "outputs": [
    {
     "data": {
      "image/png": "[encoded data removed]",
      "text/plain": [
       "<Figure size 432x288 with 1 Axes>"
      ]
     },
     "metadata": {
      "needs_background": "light"
     },
     "output_type": "display_data"
    }
   ],
   "source": [
    "#X_train, X_test, y_train, y_test, y_hat, regression = splitNfit(alldata, x_column, y_column, testsize = 0.3)\n",
    "drawROC(y_test, y_hat, title = 'predicting source (target data and source data)', lastone = True)"
   ]
  },
  {
   "cell_type": "code",
   "execution_count": 126,
   "metadata": {},
   "outputs": [
    {
     "data": {
      "text/plain": [
       "PROVEN_pred      -0.452758\n",
       "MA_pred          -0.348620\n",
       "PredSSH          -0.191440\n",
       "phyloP_pri       -0.162878\n",
       "PROVEN_score     -0.134679\n",
       "LRT_pred         -0.130182\n",
       "HMMRelEntropy    -0.104857\n",
       "PredSSE          -0.101399\n",
       "phyloP_ver       -0.096286\n",
       "SIFT_pred        -0.087077\n",
       "PredBFactorS     -0.080865\n",
       "PredBFactorF     -0.078979\n",
       "Grantham         -0.069717\n",
       "PredBFactorM     -0.057967\n",
       "PredSSC          -0.044322\n",
       "LRT_omega        -0.007582\n",
       "SIFT_score        0.022054\n",
       "MA_score          0.033707\n",
       "RNA_seq           0.035137\n",
       "SLR_score         0.038691\n",
       "phyloP_mam        0.044968\n",
       "dscore            0.056360\n",
       "HMMEntropy        0.119593\n",
       "UNEECON           0.218703\n",
       "PredRSAB          0.301127\n",
       "PredRSAI          0.304063\n",
       "PredRSAE          0.565919\n",
       "PredStabilityM    0.824202\n",
       "PredStabilityL    1.872014\n",
       "PredStabilityH    1.890307\n",
       "Name: regression, dtype: float64"
      ]
     },
     "execution_count": 126,
     "metadata": {},
     "output_type": "execute_result"
    }
   ],
   "source": [
    "coef_overall = regression.coef_.flatten()\n",
    "coefficient = pd.DataFrame({'regression':coef_overall}, index = original_column)\n",
    "coefficient['regression'].sort_values()"
   ]
  },
  {
   "cell_type": "code",
   "execution_count": 148,
   "metadata": {},
   "outputs": [
    {
     "data": {
      "image/png": "[encoded data removed]",
      "text/plain": [
       "<Figure size 432x288 with 1 Axes>"
      ]
     },
     "metadata": {
      "needs_background": "light"
     },
     "output_type": "display_data"
    },
    {
     "data": {
      "image/png": "[encoded data removed]",
      "text/plain": [
       "<Figure size 432x288 with 1 Axes>"
      ]
     },
     "metadata": {
      "needs_background": "light"
     },
     "output_type": "display_data"
    },
    {
     "data": {
      "image/png": "[encoded data removed]",
      "text/plain": [
       "<Figure size 432x288 with 1 Axes>"
      ]
     },
     "metadata": {
      "needs_background": "light"
     },
     "output_type": "display_data"
    }
   ],
   "source": [
    "#clinvar + DDD\n",
    "instance_weight = y_hat/(1-y_hat)\n",
    "instance_weight_new = instance_weight[:14037]\n",
    "\n",
    "# remove testing data that come from denovo set\n",
    "ytest_denovo.shape #1796\n",
    "\n",
    "#only clinvar\n",
    "instance_weight_new = instance_weight[:14037]\n",
    "instance_weight_new.shape #14037\n",
    "\n",
    "y_hat_new = y_hat[:14037]\n",
    "\n",
    "plt.scatter(y_hat, instance_weight)\n",
    "plt.show()\n",
    "instance_weight_round = np.around(instance_weight)\n",
    "plt.scatter(y_hat, instance_weight)\n",
    "plt.show()\n",
    "plt.plot(instance_weight)\n",
    "plt.show()\n",
    "#np.count_nonzero(np.around(instance_weight))"
   ]
  },
  {
   "cell_type": "code",
   "execution_count": 135,
   "metadata": {},
   "outputs": [
    {
     "data": {
      "text/plain": [
       "array([0.51869033, 0.55247028, 0.52680937, 0.598759  , 0.50511674])"
      ]
     },
     "execution_count": 135,
     "metadata": {},
     "output_type": "execute_result"
    }
   ],
   "source": [
    "instance_weight[instance_weight > 0.5]"
   ]
  },
  {
   "cell_type": "code",
   "execution_count": 143,
   "metadata": {},
   "outputs": [
    {
     "data": {
      "text/plain": [
       "(15833,)"
      ]
     },
     "execution_count": 143,
     "metadata": {},
     "output_type": "execute_result"
    }
   ],
   "source": [
    "instance_weight.shape # 1796 DDD, "
   ]
  },
  {
   "cell_type": "code",
   "execution_count": 149,
   "metadata": {},
   "outputs": [
    {
     "data": {
      "text/plain": [
       "(array([1.5472e+04, 3.1200e+02, 2.9000e+01, 1.1000e+01, 6.0000e+00,\n",
       "        2.0000e+00, 0.0000e+00, 0.0000e+00, 0.0000e+00, 1.0000e+00]),\n",
       " array([1.15576562e-03, 7.41851141e-01, 1.48254652e+00, 2.22324189e+00,\n",
       "        2.96393727e+00, 3.70463264e+00, 4.44532802e+00, 5.18602339e+00,\n",
       "        5.92671877e+00, 6.66741414e+00, 7.40810952e+00]),\n",
       " <a list of 10 Patch objects>)"
      ]
     },
     "execution_count": 149,
     "metadata": {},
     "output_type": "execute_result"
    },
    {
     "data": {
      "image/png": "[encoded data removed]",
      "text/plain": [
       "<Figure size 432x288 with 1 Axes>"
      ]
     },
     "metadata": {
      "needs_background": "light"
     },
     "output_type": "display_data"
    }
   ],
   "source": [
    "plt.hist(instance_weight)"
   ]
  },
  {
   "cell_type": "code",
   "execution_count": 67,
   "metadata": {},
   "outputs": [
    {
     "data": {
      "text/plain": [
       "(15833,)"
      ]
     },
     "execution_count": 67,
     "metadata": {},
     "output_type": "execute_result"
    }
   ],
   "source": [
    "instance_weight_new.shape\n",
    "y_hat.shape"
   ]
  },
  {
   "cell_type": "code",
   "execution_count": 137,
   "metadata": {},
   "outputs": [],
   "source": [
    "#compute class weight\n",
    "originaldata = alldata[alldata['source'] == 0] #46787\n",
    "denovo = alldata[alldata['source'] ==1] \n",
    "\n",
    "Xtrain_denovo.shape\n",
    "\n",
    "Xtrain.shape\n",
    "classweight = {1:Xtrain.shape[0]/(Xtrain_denovo.shape[0]+Xtrain.shape[0]), 0:Xtrain_denovo.shape[0]/(Xtrain_denovo.shape[0]+Xtrain.shape[0])}"
   ]
  },
  {
   "cell_type": "code",
   "execution_count": 138,
   "metadata": {},
   "outputs": [
    {
     "data": {
      "text/plain": [
       "{1: 0.886596821787271, 0: 0.11340317821272909}"
      ]
     },
     "execution_count": 138,
     "metadata": {},
     "output_type": "execute_result"
    }
   ],
   "source": [
    "classweight"
   ]
  },
  {
   "cell_type": "code",
   "execution_count": 150,
   "metadata": {},
   "outputs": [],
   "source": [
    "\n",
    "# training data here\n",
    "\n",
    "X = originaldata.loc[:,x_column]\n",
    "y = originaldata.loc[:,['result']].values.flatten()\n",
    "Xtrain, Xtest, ytrain, ytest = train_test_split(X,y, test_size = 0.3, random_state = 42)\n",
    "\n",
    "denovo = pd.read_csv('denovo_data.csv', sep = '\\t')\n",
    "X_test_denovo = denovo.loc[:,x_column]\n",
    "y_test_denovo = denovo.loc[:,['result']].values\n",
    "\n",
    "\n",
    "# fit denovo data using training data with instance weight\n",
    "transfer_LGR = LogisticRegression(random_state = 42 , solver = 'lbfgs', class_weight = classweight).fit(Xtest, ytest, sample_weight = instance_weight_new)\n",
    "y_hat_denovo = transfer_LGR.predict_proba(X_test_denovo)[:,1]\n",
    "\n",
    "LGR = LogisticRegression(random_state = 42 , solver = 'lbfgs').fit(Xtest, ytest)\n",
    "y_hat_denovo_ori = LGR.predict_proba(X_test_denovo)[:,1]\n",
    "\n",
    "LGR2 = LogisticRegression(random_state = 42 , solver = 'lbfgs',max_iter = 150).fit(Xtrain, ytrain)\n",
    "y_hat_denovo_ori2 = LGR2.predict_proba(X_test_denovo)[:,1]"
   ]
  },
  {
   "cell_type": "code",
   "execution_count": 102,
   "metadata": {},
   "outputs": [
    {
     "data": {
      "text/plain": [
       "(15833,)"
      ]
     },
     "execution_count": 102,
     "metadata": {},
     "output_type": "execute_result"
    }
   ],
   "source": [
    "coef_overall = transfer_LGR.coef_.flatten()\n",
    "coefficient = pd.DataFrame({'regression':coef_overall}, index = original_column)\n",
    "coefficient['regression'].sort_values()"
   ]
  },
  {
   "cell_type": "code",
   "execution_count": 42,
   "metadata": {},
   "outputs": [
    {
     "name": "stdout",
     "output_type": "stream",
     "text": [
      "(14036,)\n",
      "(14037, 32)\n"
     ]
    }
   ],
   "source": [
    "print(instance_weight.shape)\n",
    "print(Xtest.shape)"
   ]
  },
  {
   "cell_type": "code",
   "execution_count": 151,
   "metadata": {},
   "outputs": [
    {
     "data": {
      "image/png": "[encoded data removed]",
      "text/plain": [
       "<Figure size 432x288 with 1 Axes>"
      ]
     },
     "metadata": {
      "needs_background": "light"
     },
     "output_type": "display_data"
    }
   ],
   "source": [
    "drawROC(y_test_denovo, y_hat_denovo, label = 'transfer learning (LGR)')\n",
    "drawROC(y_test_denovo, y_hat_denovo_ori, label = 'LGR(test)')\n",
    "drawROC(y_test_denovo, y_hat_denovo_ori2, label = 'LGR(train)', lastone = True)\n"
   ]
  },
  {
   "cell_type": "code",
   "execution_count": 72,
   "metadata": {
    "collapsed": true
   },
   "outputs": [],
   "source": [
    "def enrichment(df, portion, features, log = True, plot = True):\n",
    "    num = int(df.shape[0]*portion*0.01)\n",
    "    oddsratios = []\n",
    "    errors = []\n",
    "    for i in features:\n",
    "    \n",
    "        df[i] = pd.to_numeric(df[i])\n",
    "        top = np.sum(df.nlargest(num,i)['result']) \n",
    "        array1 = [top, num-top]\n",
    "              \n",
    "        tail = np.sum(df.nsmallest(df.shape[0]-num,i)['result'])\n",
    "        array2 = [tail, df.shape[0]-num-tail]\n",
    "\n",
    "        \n",
    "        result = sm.stats.Table2x2(np.asarray([array1, array2])).oddsratio\n",
    "    \n",
    "        if(log == True):\n",
    "            result = math.log2(result)\n",
    "            #result = math.log(result)\n",
    "        #print(result)\n",
    "        oddsratios.append(result)\n",
    "\n",
    "        # check\n",
    "        #print((top/(num-top))/(tail/(df.shape[0]-num-tail)))\n",
    "        \n",
    "\n",
    "        # change of base\n",
    "        error = math.sqrt(1/top + 1/(num-top) + 1/tail + 1/(df.shape[0]-num-tail))* math.log2(math.e)\n",
    "        #error = math.sqrt(1/top + 1/(num-top) + 1/tail + 1/(df.shape[0]-num-tail))\n",
    "        errors.append(error)\n",
    "     \n",
    "    # Build the plot\n",
    "    if(plot == True):\n",
    "        fig, sub = plt.subplots(figsize=(18, 7))\n",
    "    \n",
    "        sub.bar(features, oddsratios,yerr=errors, align='center', alpha=0.5, ecolor='black', capsize=5)\n",
    "   \n",
    "        plt.ylabel(\"log2 enrichment of proband denovo data\")\n",
    "    \n",
    "        plt.title(\"enrichment test, enrichment level = %s percent\"%portion)\n",
    "    \n",
    "        plt.show()\n",
    "            \n",
    "    return(oddsratios, np.asarray([array1,array2]))    \n"
   ]
  },
  {
   "cell_type": "code",
   "execution_count": 152,
   "metadata": {},
   "outputs": [
    {
     "data": {
      "image/png": "[encoded data removed]",
      "text/plain": [
       "<Figure size 1296x504 with 1 Axes>"
      ]
     },
     "metadata": {
      "needs_background": "light"
     },
     "output_type": "display_data"
    },
    {
     "data": {
      "text/plain": [
       "([1.1358827463279577,\n",
       "  1.096848432033386,\n",
       "  1.7408660086950296,\n",
       "  1.4500995490997357,\n",
       "  1.0775634858238041,\n",
       "  0.7117291887539086,\n",
       "  0.4787694421295965,\n",
       "  1.8199683038704768,\n",
       "  1.7932577377719028,\n",
       "  1.5912078149529205,\n",
       "  2.606006297511022],\n",
       " array([[ 559,   39],\n",
       "        [3781, 1606]]))"
      ]
     },
     "execution_count": 152,
     "metadata": {},
     "output_type": "execute_result"
    }
   ],
   "source": [
    "features = [ 'MetaSVM_score', 'MetaLR_score', 'M-CAP_score', 'REVEL_score','ClinPred_score','CADD_phred_hg19','DANN_score']\n",
    "\n",
    "denovo['LGR_original'],denovo['LGR_transfer'],denovo['our_model'] = [y_hat_denovo_ori,y_hat_denovo, denovo_gb[1]]\n",
    "\n",
    "features = features + ['LGR_original', 'LGR_transfer', 'our_model', 'UNEECON']\n",
    "\n",
    "enrichment(denovo,10, features)"
   ]
  },
  {
   "cell_type": "code",
   "execution_count": 75,
   "metadata": {},
   "outputs": [
    {
     "data": {
      "text/html": [
       "<div>\n",
       "<style scoped>\n",
       "    .dataframe tbody tr th:only-of-type {\n",
       "        vertical-align: middle;\n",
       "    }\n",
       "\n",
       "    .dataframe tbody tr th {\n",
       "        vertical-align: top;\n",
       "    }\n",
       "\n",
       "    .dataframe thead th {\n",
       "        text-align: right;\n",
       "    }\n",
       "</style>\n",
       "<table border=\"1\" class=\"dataframe\">\n",
       "  <thead>\n",
       "    <tr style=\"text-align: right;\">\n",
       "      <th></th>\n",
       "      <th>our_model</th>\n",
       "      <th>LGR_transfer</th>\n",
       "    </tr>\n",
       "  </thead>\n",
       "  <tbody>\n",
       "    <tr>\n",
       "      <td>0</td>\n",
       "      <td>0.953930</td>\n",
       "      <td>0.125232</td>\n",
       "    </tr>\n",
       "    <tr>\n",
       "      <td>1</td>\n",
       "      <td>-1.322858</td>\n",
       "      <td>0.019479</td>\n",
       "    </tr>\n",
       "    <tr>\n",
       "      <td>2</td>\n",
       "      <td>-1.945298</td>\n",
       "      <td>0.004796</td>\n",
       "    </tr>\n",
       "    <tr>\n",
       "      <td>3</td>\n",
       "      <td>-2.947545</td>\n",
       "      <td>0.004680</td>\n",
       "    </tr>\n",
       "    <tr>\n",
       "      <td>4</td>\n",
       "      <td>-1.404344</td>\n",
       "      <td>0.016560</td>\n",
       "    </tr>\n",
       "    <tr>\n",
       "      <td>...</td>\n",
       "      <td>...</td>\n",
       "      <td>...</td>\n",
       "    </tr>\n",
       "    <tr>\n",
       "      <td>5980</td>\n",
       "      <td>-0.066988</td>\n",
       "      <td>0.092738</td>\n",
       "    </tr>\n",
       "    <tr>\n",
       "      <td>5981</td>\n",
       "      <td>-2.683431</td>\n",
       "      <td>0.007082</td>\n",
       "    </tr>\n",
       "    <tr>\n",
       "      <td>5982</td>\n",
       "      <td>-1.131317</td>\n",
       "      <td>0.008011</td>\n",
       "    </tr>\n",
       "    <tr>\n",
       "      <td>5983</td>\n",
       "      <td>-2.846104</td>\n",
       "      <td>0.008747</td>\n",
       "    </tr>\n",
       "    <tr>\n",
       "      <td>5984</td>\n",
       "      <td>-2.725206</td>\n",
       "      <td>0.009846</td>\n",
       "    </tr>\n",
       "  </tbody>\n",
       "</table>\n",
       "<p>5985 rows × 2 columns</p>\n",
       "</div>"
      ],
      "text/plain": [
       "      our_model  LGR_transfer\n",
       "0      0.953930      0.125232\n",
       "1     -1.322858      0.019479\n",
       "2     -1.945298      0.004796\n",
       "3     -2.947545      0.004680\n",
       "4     -1.404344      0.016560\n",
       "...         ...           ...\n",
       "5980  -0.066988      0.092738\n",
       "5981  -2.683431      0.007082\n",
       "5982  -1.131317      0.008011\n",
       "5983  -2.846104      0.008747\n",
       "5984  -2.725206      0.009846\n",
       "\n",
       "[5985 rows x 2 columns]"
      ]
     },
     "execution_count": 75,
     "metadata": {},
     "output_type": "execute_result"
    }
   ],
   "source": [
    "denovo[['our_model','LGR_transfer']]"
   ]
  },
  {
   "cell_type": "code",
   "execution_count": 241,
   "metadata": {},
   "outputs": [
    {
     "data": {
      "image/png": "[encoded data removed]",
      "text/plain": [
       "<Figure size 432x288 with 1 Axes>"
      ]
     },
     "metadata": {
      "needs_background": "light"
     },
     "output_type": "display_data"
    }
   ],
   "source": [
    "\n",
    "print(enrichment(denovo, 10, ['LGR_transfer'], plot = False))\n",
    "enrichment(denovo, 10, ['our_model'], plot = False)\n",
    "drawROC(y_test_denovo, y_hat_denovo, label = 'LGR_transfer')\n",
    "drawROC(denovo_gb[0], denovo_gb [1], label = 'our model', lastone = True, title = 'comparison')"
   ]
  },
  {
   "cell_type": "code",
   "execution_count": 79,
   "metadata": {},
   "outputs": [
    {
     "name": "stdout",
     "output_type": "stream",
     "text": [
      "# Tuning hyper-parameters for recall\n",
      "\n"
     ]
    },
    {
     "name": "stderr",
     "output_type": "stream",
     "text": [
      "/storage/home/jkl5991/.conda/envs/sanEnv/lib/python3.6/site-packages/sklearn/model_selection/_split.py:1978: FutureWarning: The default value of cv will change from 3 to 5 in version 0.22. Specify it explicitly to silence this warning.\n",
      "  warnings.warn(CV_WARNING, FutureWarning)\n"
     ]
    },
    {
     "name": "stdout",
     "output_type": "stream",
     "text": [
      "Best parameters set found on development set:\n",
      "{'learning_rate': 0.05, 'max_depth': 3, 'n_estimators': 100}\n",
      "With score : 0.870\n",
      "\n",
      "Grid scores on development set:\n",
      "\n",
      "0.870 (+/-0.006) for {'learning_rate': 0.05, 'max_depth': 3, 'n_estimators': 100}\n",
      "0.868 (+/-0.010) for {'learning_rate': 0.05, 'max_depth': 3, 'n_estimators': 150}\n",
      "0.867 (+/-0.014) for {'learning_rate': 0.05, 'max_depth': 3, 'n_estimators': 200}\n",
      "0.857 (+/-0.009) for {'learning_rate': 0.05, 'max_depth': 5, 'n_estimators': 100}\n",
      "0.858 (+/-0.011) for {'learning_rate': 0.05, 'max_depth': 5, 'n_estimators': 150}\n",
      "0.856 (+/-0.005) for {'learning_rate': 0.05, 'max_depth': 5, 'n_estimators': 200}\n",
      "0.852 (+/-0.001) for {'learning_rate': 0.05, 'max_depth': 8, 'n_estimators': 100}\n",
      "0.856 (+/-0.009) for {'learning_rate': 0.05, 'max_depth': 8, 'n_estimators': 150}\n",
      "0.859 (+/-0.007) for {'learning_rate': 0.05, 'max_depth': 8, 'n_estimators': 200}\n",
      "0.864 (+/-0.006) for {'learning_rate': 0.1, 'max_depth': 3, 'n_estimators': 100}\n",
      "0.863 (+/-0.001) for {'learning_rate': 0.1, 'max_depth': 3, 'n_estimators': 150}\n",
      "0.862 (+/-0.000) for {'learning_rate': 0.1, 'max_depth': 3, 'n_estimators': 200}\n",
      "0.861 (+/-0.013) for {'learning_rate': 0.1, 'max_depth': 5, 'n_estimators': 100}\n",
      "0.858 (+/-0.005) for {'learning_rate': 0.1, 'max_depth': 5, 'n_estimators': 150}\n",
      "0.858 (+/-0.013) for {'learning_rate': 0.1, 'max_depth': 5, 'n_estimators': 200}\n",
      "0.854 (+/-0.003) for {'learning_rate': 0.1, 'max_depth': 8, 'n_estimators': 100}\n",
      "0.855 (+/-0.006) for {'learning_rate': 0.1, 'max_depth': 8, 'n_estimators': 150}\n",
      "0.858 (+/-0.001) for {'learning_rate': 0.1, 'max_depth': 8, 'n_estimators': 200}\n",
      "0.868 (+/-0.011) for {'learning_rate': 0.15, 'max_depth': 3, 'n_estimators': 100}\n",
      "0.860 (+/-0.009) for {'learning_rate': 0.15, 'max_depth': 3, 'n_estimators': 150}\n",
      "0.859 (+/-0.008) for {'learning_rate': 0.15, 'max_depth': 3, 'n_estimators': 200}\n",
      "0.856 (+/-0.011) for {'learning_rate': 0.15, 'max_depth': 5, 'n_estimators': 100}\n",
      "0.858 (+/-0.011) for {'learning_rate': 0.15, 'max_depth': 5, 'n_estimators': 150}\n",
      "0.857 (+/-0.008) for {'learning_rate': 0.15, 'max_depth': 5, 'n_estimators': 200}\n",
      "0.856 (+/-0.005) for {'learning_rate': 0.15, 'max_depth': 8, 'n_estimators': 100}\n",
      "0.860 (+/-0.005) for {'learning_rate': 0.15, 'max_depth': 8, 'n_estimators': 150}\n",
      "0.854 (+/-0.000) for {'learning_rate': 0.15, 'max_depth': 8, 'n_estimators': 200}\n",
      "\n",
      "Detailed classification report:\n",
      "\n",
      "The model is trained on the full development set.\n",
      "\n"
     ]
    }
   ],
   "source": [
    "# gb + sample weight\n",
    "\n",
    "\n",
    "Xtraindb, Xtestdb, ytraindb, ytestdb = train_test_split(X,y, test_size = 0.3, random_state = 42)\n",
    "\n",
    "\n",
    "tuned_parameters = {\"learning_rate\" : [0.05,0.1,0.15], \n",
    "                   \"n_estimators\": [100,150,200],\n",
    "                    \"max_depth\": [3,5,8]}\n",
    "\n",
    "tuning(Xvalid, yvaliddb, 'gradient boosting', tuned_parameters)\n",
    "\n",
    "\n"
   ]
  },
  {
   "cell_type": "code",
   "execution_count": 153,
   "metadata": {},
   "outputs": [
    {
     "data": {
      "image/png": "[encoded data removed]",
      "text/plain": [
       "<Figure size 432x288 with 1 Axes>"
      ]
     },
     "metadata": {
      "needs_background": "light"
     },
     "output_type": "display_data"
    }
   ],
   "source": [
    "denovo_gb_transfer = GradientBoosting = GradientBoostingClassifier(learning_rate = 0.05, max_depth = 3, n_estimators = 100, subsample = 1)\n",
    "denovo_gb_transfer = denovo_gb_transfer.fit(Xtestdb, ytestdb, sample_weight = instance_weight_new)\n",
    "yhat_gb_transfer = denovo_gb_transfer.decision_function(X_test_denovo)\n",
    "\n",
    "\n",
    "drawROC(denovo_gb[0], denovo_gb[1], label = 'gb')\n",
    "drawROC(y_test_denovo, yhat_gb_transfer, label = 'gb_transfer', lastone = True, title = 'gb')\n"
   ]
  },
  {
   "cell_type": "code",
   "execution_count": 154,
   "metadata": {},
   "outputs": [
    {
     "data": {
      "image/png": "[encoded data removed]",
      "text/plain": [
       "<Figure size 1296x504 with 1 Axes>"
      ]
     },
     "metadata": {
      "needs_background": "light"
     },
     "output_type": "display_data"
    },
    {
     "data": {
      "text/plain": [
       "([1.1358827463279577,\n",
       "  1.096848432033386,\n",
       "  1.7408660086950296,\n",
       "  1.4500995490997357,\n",
       "  1.0775634858238041,\n",
       "  0.7117291887539086,\n",
       "  0.4787694421295965,\n",
       "  1.8199683038704768,\n",
       "  1.7932577377719028,\n",
       "  1.5912078149529205,\n",
       "  2.606006297511022,\n",
       "  1.639914811778186],\n",
       " array([[ 528,   70],\n",
       "        [3812, 1575]]))"
      ]
     },
     "execution_count": 154,
     "metadata": {},
     "output_type": "execute_result"
    }
   ],
   "source": [
    "features.append('gb_transfer')\n",
    "denovo['gb_transfer'] = yhat_gb_transfer\n",
    "enrichment(denovo,10, features)"
   ]
  },
  {
   "cell_type": "code",
   "execution_count": null,
   "metadata": {
    "collapsed": true
   },
   "outputs": [],
   "source": []
  },
  {
   "cell_type": "code",
   "execution_count": null,
   "metadata": {
    "collapsed": true
   },
   "outputs": [],
   "source": []
  },
  {
   "cell_type": "code",
   "execution_count": null,
   "metadata": {
    "collapsed": true
   },
   "outputs": [],
   "source": []
  },
  {
   "cell_type": "code",
   "execution_count": null,
   "metadata": {
    "collapsed": true
   },
   "outputs": [],
   "source": []
  },
  {
   "cell_type": "code",
   "execution_count": null,
   "metadata": {
    "collapsed": true
   },
   "outputs": [],
   "source": []
  },
  {
   "cell_type": "code",
   "execution_count": null,
   "metadata": {
    "collapsed": true
   },
   "outputs": [],
   "source": []
  },
  {
   "cell_type": "code",
   "execution_count": null,
   "metadata": {
    "collapsed": true
   },
   "outputs": [],
   "source": []
  },
  {
   "cell_type": "code",
   "execution_count": null,
   "metadata": {
    "collapsed": true
   },
   "outputs": [],
   "source": []
  }
 ],
 "metadata": {
  "kernelspec": {
   "display_name": "Python (sanEnv)",
   "language": "python",
   "name": "sanenv"
  },
  "language_info": {
   "codemirror_mode": {
    "name": "ipython",
    "version": 3
   },
   "file_extension": ".py",
   "mimetype": "text/x-python",
   "name": "python",
   "nbconvert_exporter": "python",
   "pygments_lexer": "ipython3",
   "version": "3.6.9"
  }
 },
 "nbformat": 4,
 "nbformat_minor": 2
}
