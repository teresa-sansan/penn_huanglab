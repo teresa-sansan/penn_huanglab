{
 "cells": [
  {
   "cell_type": "code",
   "execution_count": null,
   "metadata": {},
   "outputs": [],
   "source": [
    "## combining Clinvar info with UNEECON info"
   ]
  },
  {
   "cell_type": "code",
   "execution_count": 1,
   "metadata": {},
   "outputs": [],
   "source": [
    "import pandas as pd\n",
    "import numpy as np\n",
    "import gzip\n",
    "import io\n",
    "import os\n",
    "import random"
   ]
  },
  {
   "cell_type": "code",
   "execution_count": 2,
   "metadata": {},
   "outputs": [
    {
     "name": "stderr",
     "output_type": "stream",
     "text": [
      "/storage/home/jkl5991/.conda/envs/sanEnv/lib/python3.6/site-packages/IPython/core/interactiveshell.py:3058: DtypeWarning: Columns (0) have mixed types. Specify dtype option on import or set low_memory=False.\n",
      "  interactivity=interactivity, compiler=compiler, result=result)\n"
     ]
    }
   ],
   "source": [
    "column_list = ['chrom','pos','ID','ref','alt','qual','filter','info']\n",
    "clinvar = pd.read_csv('/storage/home/jkl5991/work/project/original_data/clinvar_20200113.vcf', sep='\\t', header=None, comment='#', names = column_list)\n",
    "clinvar.head()\n",
    "clinvar.columns = column_list\n",
    "clinvar = clinvar[clinvar['ref'].str.len() == clinvar['alt'].str.len()]"
   ]
  },
  {
   "cell_type": "code",
   "execution_count": 8,
   "metadata": {},
   "outputs": [
    {
     "name": "stdout",
     "output_type": "stream",
     "text": [
      "checked 50000 items\n",
      "checked 100000 items\n",
      "checked 150000 items\n",
      "checked 200000 items\n",
      "checked 250000 items\n",
      "checked 300000 items\n",
      "checked 350000 items\n",
      "checked 400000 items\n",
      "checked 450000 items\n",
      "checked 500000 items\n",
      "checked 550000 items\n",
      "finished. Checked 551918 items\n",
      "controdicted inheritance mode =  947\n"
     ]
    }
   ],
   "source": [
    "# building dictionary for pathogenic or benign\n",
    "# building dictionary for dominant/recessive\n",
    "ref_path={}\n",
    "ref_do ={}\n",
    "c = 0\n",
    "controdict = 0\n",
    "# to irerate over rows in Pandas DataFrame\n",
    "for index,row in clinvar.iterrows():\n",
    "    a = \"-\".join([\"chr\" + str(row['chrom']), str(row['pos']-1), str(row['pos']), row['ref'], row['alt']])\n",
    "    c += 1\n",
    "    if 'CLNSIG=Conflicting_interpretations_of_pathogenicity' not in row['info']:\n",
    "        if \"benign\" in row['info'] or \"Benign\" in row['info']:\n",
    "            ref_path[a] = 0\n",
    "        if \"pathogenic\" in row['info'] or \"Pathogenic\" in row['info']:\n",
    "            ref_path[a] = 1\n",
    "        if 'dominant' in row['info']:\n",
    "            ref_do[a] = 1\n",
    "        elif \"recessive\" in row['info']:\n",
    "            ref_do[a] = 0\n",
    "        if (('dominant' in row['info']) and ('recessive' in row['info'])):\n",
    "            controdict +=1\n",
    "    if c % 50000 == 0:\n",
    "        print('checked {} items'.format(c))\n",
    "print('finished. Checked {} items'.format(c))\n",
    "print('controdicted inheritance mode = ', controdict)"
   ]
  },
  {
   "cell_type": "code",
   "execution_count": 4,
   "metadata": {},
   "outputs": [
    {
     "name": "stdout",
     "output_type": "stream",
     "text": [
      "start running...\n",
      "finished\n",
      "wrote 3001 lines in dominance.tsv\n",
      "wrote 48076 lines in benign.tsv\n",
      "wrote 79393 lines in unannotated.tsv\n"
     ]
    }
   ],
   "source": [
    "# creating dominance.tsv, benign.tsv, unannotated.tsv\n",
    "with open('dominance.tsv', 'w') as dominance, open('benign.tsv','w') as benign, open('unannotated.tsv','w') as unannotated:\n",
    "    predict = gzip.open('/storage/home/jkl5991/work/project/original_data/prediction_input.tsv.gz','r')\n",
    "    column_name =['location', 'accession_num', 'clinvar_result', 'SIFT_pred', 'LRT_pred', 'MA_pred', 'PROVEN_pred',\n",
    "               'SLR_score', 'SIFT_score', 'LRT_omega', 'MA_score', 'PROVEN_score', 'Grantham', 'HMMEntropy',\n",
    "               'HMMRelEntropy', 'PredRSAB', 'PredRSAI', 'PredRSAE', 'PredBFactorF', 'PredBFactorM', 'PredBFactorS',\n",
    "               'PredStabilityH', 'PredStabilityM', 'PredStabilityL', 'PredSSE', 'PredSSH', 'PredSSC', 'dscore',\n",
    "               'phyloP_pri', 'phyloP_mam', 'phyloP_ver', 'RNA_seq','dominantORrecessive\\n'] \n",
    "    dominance.write('\\t'.join(column_name))\n",
    "    benign.write('\\t'.join(column_name))\n",
    "    unannotated.write('\\t'.join(column_name))\n",
    "    print(\"start running...\")\n",
    "    count_dominance = count_benign = count_unannotated = 0\n",
    "    for predictline  in predict:\n",
    "        predictline = predictline.decode('UTF-8')\n",
    "        predict_split = predictline.split('\\t')\n",
    "        if predict_split[0] in ref_do and predict_split[0] in ref_path:\n",
    "            outputline = \"\\t\".join(predict_split[:2]+[str(ref_path[predict_split[0]])]+predict_split[2:30]+[predict_split[30].strip()] + [str(ref_do[predict_split[0]])])+'\\n'\n",
    "            dominance.write(outputline)\n",
    "            count_dominance += 1\n",
    "\n",
    "        if  predict_split[0] in ref_path and predict_split[0] not in ref_do:\n",
    "            outputline = \"\\t\".join(predict_split[:2]+[str(ref_path[predict_split[0]])]+predict_split[2:30]+[predict_split[30].strip()] + [\"NA\"])+\"\\n\"\n",
    "            unannotated.write(outputline)\n",
    "            count_unannotated += 1  \n",
    "            if ref_path[predict_split[0]] == 0:  \n",
    "                benign.write(outputline)\n",
    "                count_benign += 1  \n",
    "        \n",
    "                \n",
    "    print(\"finished\")\n",
    "    print(\"wrote {} lines in dominance.tsv\".format(count_dominance))\n",
    "    print(\"wrote {} lines in benign.tsv\".format(count_benign))\n",
    "    print(\"wrote {} lines in unannotated.tsv\".format(count_unannotated))\n",
    "    predict.close() "
   ]
  },
  {
   "cell_type": "code",
   "execution_count": 6,
   "metadata": {},
   "outputs": [
    {
     "name": "stdout",
     "output_type": "stream",
     "text": [
      "(3001, 33) (48076, 33)\n",
      "(1713, 33)\n",
      "(4714, 33)\n"
     ]
    }
   ],
   "source": [
    "# balanced file\n",
    "dominance = pd.read_csv(\"dominance.tsv\", sep = \"\\t\")\n",
    "benign = pd.read_csv(\"benign.tsv\",sep = \"\\t\")\n",
    "print(dominance.shape, benign.shape)\n",
    "\n",
    "random.seed(42)\n",
    "benign_random = benign.sample(n = 1713) #2357-644\n",
    "print(benign_random.shape)\n",
    "\n",
    "dominance_balanced = dominance.append(benign_random, sort = False)\n",
    "dominance_balanced[dominance_balanced['dominantORrecessive'].isna()].shape # there are 1703 added data from benign.tsv\n",
    "print(dominance_balanced.shape)\n",
    "dominance_balanced.to_csv(r'dominance_balanced.tsv', sep = \"\\t\", index = False)"
   ]
  },
  {
   "cell_type": "code",
   "execution_count": 7,
   "metadata": {},
   "outputs": [
    {
     "name": "stdout",
     "output_type": "stream",
     "text": [
      "(2357, 33)\n",
      "(644, 33)\n",
      "(1273, 33)\n",
      "(1728, 33)\n"
     ]
    }
   ],
   "source": [
    "dominant = dominance[dominance['dominantORrecessive'] ==1]\n",
    "recessive = dominance[dominance['dominantORrecessive'] ==0]\n",
    "dominant[dominant['clinvar_result'] == 0].shape\n",
    "recessive[recessive['clinvar_result'] == 1].shape\n",
    "print(dominance[dominance['clinvar_result'] ==1 ].shape)\n",
    "print(dominance[dominance['clinvar_result'] ==0 ].shape)\n",
    "print(dominance[dominance['dominantORrecessive'] == 1].shape)\n",
    "print(dominance[dominance['dominantORrecessive'] == 0].shape)\n",
    "# print(dominance.shape)\n",
    "\n",
    "\n"
   ]
  },
  {
   "cell_type": "code",
   "execution_count": 8,
   "metadata": {},
   "outputs": [
    {
     "name": "stdout",
     "output_type": "stream",
     "text": [
      "(77680, 32)\n"
     ]
    }
   ],
   "source": [
    "#omit file\n",
    "unannotated = pd.read_csv('unannotated.tsv', sep = \"\\t\")\n",
    "unannotated_omit = unannotated.loc[~unannotated['location'].isin(benign_random['location'])]\n",
    "unannotated_omit = unannotated_omit.drop([\"dominantORrecessive\"],axis = 1)\n",
    "print(unannotated_omit.shape)  #79393 - 1713 = 77680\n",
    "unannotated_omit.to_csv(r'unannotated_omit.tsv', sep = '\\t', index = False)"
   ]
  },
  {
   "cell_type": "code",
   "execution_count": 9,
   "metadata": {},
   "outputs": [
    {
     "data": {
      "text/plain": [
       "31317"
      ]
     },
     "execution_count": 9,
     "metadata": {},
     "output_type": "execute_result"
    }
   ],
   "source": [
    "np.sum(unannotated_omit['clinvar_result'])"
   ]
  },
  {
   "cell_type": "code",
   "execution_count": null,
   "metadata": {
    "collapsed": true
   },
   "outputs": [],
   "source": [
    "# tabix uneecon\n",
    "!cat dominance_balanced.tsv |cut -f 1| grep -|tr -d 'chr'|cut -d '-' -f 1,2,3|tr '-' '\\t' > location_balanced.bed\n",
    "!sortBed -i location_balanced.bed |mergeBed > location_balanced_sorted.bed\n",
    "!tabix ~/work/project/original_data/UNEECON.tsv.gz -R location_balanced_sorted.bed > tabix_balanced.tsv\n",
    "\n",
    "!cat unannotated_omit.tsv |cut -f 1| grep -|tr -d 'chr'|cut -d '-' -f 1,2,3|tr '-' '\\t' > location_omit.bed    \n",
    "!sortBed -i location_omit.bed |mergeBed > location_omit_sorted.bed \n",
    "!tabix ~/work/project/original_data/UNEECON.tsv.gz -R location_omit_sorted.bed > tabix_omit.tsv "
   ]
  },
  {
   "cell_type": "code",
   "execution_count": 98,
   "metadata": {
    "collapsed": true
   },
   "outputs": [],
   "source": [
    "#balanced file + uneecon\n",
    "uneecon = pd.read_csv(\"tabix_balanced.tsv\", sep = '\\t', header = None, names = ['chrom','loc','ref','alt','score'])\n",
    "uneecon['loc-1'] = uneecon['loc']-1\n",
    "uneecon['match'] ='chr' + uneecon['chrom'].map(str)+ '-' + uneecon['loc-1'].map(str)+ '-' + uneecon['loc'].map(str)+ '-' + uneecon['ref'].map(str)+ '-' + uneecon['alt'].map(str)\n",
    "\n",
    "\n",
    "df = pd.DataFrame({'location' : uneecon['match'], 'UNEECON':uneecon['score']})\n",
    "balanced_uneecon = pd.merge(dominance_balanced,df, on=['location'])\n",
    "\n",
    "balanced_uneecon.to_csv('dominance_balanced_uneecon.tsv', sep = \"\\t\", index = False)\n"
   ]
  },
  {
   "cell_type": "code",
   "execution_count": 103,
   "metadata": {
    "collapsed": true
   },
   "outputs": [],
   "source": [
    "# unannotated file + UNEECON\n",
    "unannotated_omit= pd.read_csv('unannotated_omit.tsv', sep = '\\t')\n",
    "uneecon = pd.read_csv(\"tabix_omit.tsv\", sep = '\\t', header = None, names = ['chrom','loc','ref','alt','score'])\n",
    "uneecon['loc-1'] = uneecon['loc']-1\n",
    "uneecon['match'] ='chr' + uneecon['chrom'].map(str)+ '-' + uneecon['loc-1'].map(str)+ '-' + uneecon['loc'].map(str)+ '-' + uneecon['ref'].map(str)+ '-' + uneecon['alt'].map(str)\n",
    "df = {'location' : uneecon['match'], 'UNEECON':uneecon['score']}\n",
    "df = pd.DataFrame(df)\n",
    "omit_uneecon = pd.merge(unannotated_omit,df, on=['location'])\n",
    "omit_uneecon.to_csv(r'unannotated_omit_uneecon.tsv', sep = '\\t', index = False)"
   ]
  },
  {
   "cell_type": "code",
   "execution_count": 112,
   "metadata": {},
   "outputs": [
    {
     "name": "stdout",
     "output_type": "stream",
     "text": [
      "(677, 34)\n",
      "(1036, 34)\n",
      "(1950, 33)\n",
      "(2764, 33)\n"
     ]
    }
   ],
   "source": [
    "# create dominant and recessive seperate file #with UNEECON score\n",
    "#balanced_uneecon = pd.read_csv('dominance_balanced_uneecon.tsv', sep = '\\t')\n",
    "benign = balanced_uneecon.loc[balanced_uneecon['dominantORrecessive'].isna()]\n",
    "\n",
    "random.seed(42)\n",
    "randombenign4domi = benign.sample(n = 677) #975 - 298 = 677\n",
    "print(randombenign4domi.shape)\n",
    "\n",
    "randombenign4recess = benign.loc[~benign['location'].isin(randombenign4domi['location'])]\n",
    "print(randombenign4recess.shape)\n",
    "\n",
    "dominant = balanced[balanced['dominantORrecessive']==1]\n",
    "dominant = pd.concat([dominant,randombenign4domi])\n",
    "dominant = dominant.drop([\"dominantORrecessive\"],axis = 1)\n",
    "print(dominant.shape)\n",
    "\n",
    "recessive = balanced[balanced['dominantORrecessive']==0]\n",
    "recessive = pd.concat([recessive,randombenign4recess])\n",
    "recessive = recessive.drop([\"dominantORrecessive\"],axis = 1)\n",
    "print(recessive.shape)\n",
    "\n",
    "#dominant.to_csv(r'dominant_uneecon.tsv', sep = \"\\t\", index = False)\n",
    "#recessive.to_csv(r'recessive_uneecon.tsv', sep = \"\\t\", index = False)"
   ]
  },
  {
   "cell_type": "code",
   "execution_count": 47,
   "metadata": {
    "collapsed": true
   },
   "outputs": [],
   "source": []
  },
  {
   "cell_type": "code",
   "execution_count": 113,
   "metadata": {
    "collapsed": true
   },
   "outputs": [],
   "source": [
    "#standardize \n",
    "mean = omit_uneecon.mean(axis = 0, numeric_only = float)\n",
    "std = omit_uneecon.std(axis = 0, numeric_only = float)\n",
    "drop_col = ['clinvar_result','SIFT_pred','LRT_pred','MA_pred','PROVEN_pred']\n",
    "mean = mean.drop(drop_col)\n",
    "std = std.drop(drop_col)\n",
    "\n",
    "omit_std = (omit_uneecon.iloc[:,7:] - mean)/std\n",
    "dominant_std = (dominant.iloc[:,7:] - mean)/std\n",
    "recessive_std = (recessive.iloc[:,7:] - mean)/std\n",
    "\n",
    "omit_std = pd.concat([omit_uneecon.iloc[:,:7], omit_std], axis = 1)\n",
    "dominant_std = pd.concat([dominant.iloc[:,:7], dominant_std], axis = 1)\n",
    "recessive_std = pd.concat([recessive.iloc[:,:7], recessive_std], axis = 1)"
   ]
  },
  {
   "cell_type": "code",
   "execution_count": 116,
   "metadata": {},
   "outputs": [
    {
     "name": "stdout",
     "output_type": "stream",
     "text": [
      "(77680, 33)\n",
      "(1950, 33)\n",
      "(2764, 33)\n"
     ]
    }
   ],
   "source": [
    "print(omit_std.shape)\n",
    "print(dominant_std.shape)\n",
    "print(recessive_std.shape)"
   ]
  },
  {
   "cell_type": "code",
   "execution_count": 117,
   "metadata": {
    "collapsed": true
   },
   "outputs": [],
   "source": [
    "omit_std.to_csv('unannotated_omit_std.tsv', sep = '\\t',index = False)\n",
    "dominant_std.to_csv('dominant_std.tsv', sep = '\\t',index = False)\n",
    "recessive_std.to_csv(\"recessive_std.tsv\",sep = '\\t',index = False)"
   ]
  },
  {
   "cell_type": "code",
   "execution_count": 2,
   "metadata": {},
   "outputs": [],
   "source": [
    "omit_std = pd.read_csv('unannotated_omit_std.tsv', sep = '\\t')\n",
    "dominant_std = pd.read_csv('dominant_std.tsv', sep = '\\t')\n",
    "recessive_std = pd.read_csv(\"recessive_std.tsv\", sep = '\\t')"
   ]
  },
  {
   "cell_type": "code",
   "execution_count": 3,
   "metadata": {},
   "outputs": [
    {
     "name": "stdout",
     "output_type": "stream",
     "text": [
      "Unbalanced,\n",
      "with num of 0 is 46363, num of 1 is 31317.\n",
      "\n",
      "start balancing...\n",
      "with num of 0 is 31317, num of 1 is 31317.\n",
      "\n"
     ]
    }
   ],
   "source": [
    "from test_function import *\n",
    "omit_std = preprocess(omit_std, 'clinvar_result',Balanced = True)"
   ]
  },
  {
   "cell_type": "code",
   "execution_count": 4,
   "metadata": {},
   "outputs": [],
   "source": [
    "omit_std = omit_std.rename(columns = {'PROVEN_score':'PROVEAN_score', 'PROVEN_pred':'PROVEAN_pred'})\n",
    "dominant_std = dominant_std.rename(columns = {'PROVEN_score':'PROVEAN_score', 'PROVEN_pred':'PROVEAN_pred'})\n",
    "recessive_std = recessive_std.rename(columns = {'PROVEN_score':'PROVEAN_score', 'PROVEN_pred':'PROVEAN_pred'})"
   ]
  },
  {
   "cell_type": "code",
   "execution_count": 6,
   "metadata": {},
   "outputs": [
    {
     "data": {
      "text/plain": [
       "Index(['location', 'accession_num', 'clinvar_result', 'SIFT_pred', 'LRT_pred',\n",
       "       'MA_pred', 'PROVEAN_pred', 'SLR_score', 'SIFT_score', 'LRT_omega',\n",
       "       'MA_score', 'PROVEAN_score', 'Grantham', 'HMMEntropy', 'HMMRelEntropy',\n",
       "       'PredRSAB', 'PredRSAI', 'PredRSAE', 'PredBFactorF', 'PredBFactorM',\n",
       "       'PredBFactorS', 'PredStabilityH', 'PredStabilityM', 'PredStabilityL',\n",
       "       'PredSSE', 'PredSSH', 'PredSSC', 'dscore', 'phyloP_pri', 'phyloP_mam',\n",
       "       'phyloP_ver', 'RNA_seq', 'UNEECON'],\n",
       "      dtype='object')"
      ]
     },
     "execution_count": 6,
     "metadata": {},
     "output_type": "execute_result"
    }
   ],
   "source": [
    "dominant_std.columns"
   ]
  },
  {
   "cell_type": "code",
   "execution_count": 7,
   "metadata": {},
   "outputs": [
    {
     "data": {
      "text/plain": [
       "Index(['location', 'accession_num', 'clinvar_result', 'SIFT_pred', 'LRT_pred',\n",
       "       'MA_pred', 'PROVEAN_pred', 'SLR_score', 'SIFT_score', 'LRT_omega',\n",
       "       'MA_score', 'PROVEAN_score', 'Grantham', 'HMMEntropy', 'HMMRelEntropy',\n",
       "       'PredRSAB', 'PredRSAI', 'PredRSAE', 'PredBFactorF', 'PredBFactorM',\n",
       "       'PredBFactorS', 'PredStabilityH', 'PredStabilityM', 'PredStabilityL',\n",
       "       'PredSSE', 'PredSSH', 'PredSSC', 'dscore', 'phyloP_pri', 'phyloP_mam',\n",
       "       'phyloP_ver', 'RNA_seq', 'UNEECON'],\n",
       "      dtype='object')"
      ]
     },
     "execution_count": 7,
     "metadata": {},
     "output_type": "execute_result"
    }
   ],
   "source": [
    "recessive_std.columns"
   ]
  },
  {
   "cell_type": "code",
   "execution_count": 8,
   "metadata": {},
   "outputs": [],
   "source": [
    "omit_std.to_csv('unannotated_omit_std.tsv', sep = '\\t',index = False)\n",
    "dominant_std.to_csv('dominant_std.tsv', sep = '\\t',index = False)\n",
    "recessive_std.to_csv(\"recessive_std.tsv\",sep = '\\t',index = False)"
   ]
  },
  {
   "cell_type": "code",
   "execution_count": null,
   "metadata": {},
   "outputs": [],
   "source": []
  }
 ],
 "metadata": {
  "kernelspec": {
   "display_name": "Python (sanEnv)",
   "language": "python",
   "name": "sanenv"
  },
  "language_info": {
   "codemirror_mode": {
    "name": "ipython",
    "version": 3
   },
   "file_extension": ".py",
   "mimetype": "text/x-python",
   "name": "python",
   "nbconvert_exporter": "python",
   "pygments_lexer": "ipython3",
   "version": "3.6.9"
  }
 },
 "nbformat": 4,
 "nbformat_minor": 2
}
