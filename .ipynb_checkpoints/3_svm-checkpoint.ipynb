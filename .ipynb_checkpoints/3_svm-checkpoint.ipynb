{
 "cells": [
  {
   "cell_type": "code",
   "execution_count": 1,
   "metadata": {
    "collapsed": true
   },
   "outputs": [],
   "source": [
    "import pandas as pd\n",
    "import numpy as np\n",
    "import matplotlib.pyplot as plt\n",
    "from sklearn.linear_model import LogisticRegression\n",
    "from sklearn.model_selection import cross_val_score,train_test_split,StratifiedKFold,GridSearchCV\n",
    "from sklearn.metrics import roc_auc_score, auc, roc_curve,classification_report\n",
    "from sklearn.pipeline import Pipeline\n",
    "from sklearn.preprocessing import StandardScaler\n",
    "from sklearn.svm import LinearSVC,SVC\n",
    "from sklearn import metrics, svm\n",
    "from test_function import *\n",
    "from sklearn.metrics import accuracy_score"
   ]
  },
  {
   "cell_type": "code",
   "execution_count": 2,
   "metadata": {
    "collapsed": true
   },
   "outputs": [],
   "source": [
    "x_column = ['SIFT_pred','LRT_pred', 'MA_pred', 'PROVEN_pred', 'SLR_score', 'SIFT_score','LRT_omega', \n",
    "                'MA_score', 'PROVEN_score', 'Grantham', 'HMMEntropy','HMMRelEntropy', 'PredRSAB', 'PredRSAI', \n",
    "                'PredRSAE','PredBFactorF', 'PredBFactorM', 'PredBFactorS', 'PredStabilityH','PredStabilityM', \n",
    "                'PredStabilityL', 'PredSSE', 'PredSSH','PredSSC', 'dscore', 'phyloP_pri', 'phyloP_mam','phyloP_ver','RNA_seq','UNEECON']\n",
    "y_column = 'clinvar_result'\n",
    "\n",
    "#overall model\n",
    "omit = pd.read_csv(\"unannotated_omit_uneecon.tsv\", sep = '\\t')\n",
    "y = omit.loc[:,[y_column]].values.flatten()\n",
    "X = omit.loc[:,x_column]\n",
    "X_train, X_test, y_train, y_test = train_test_split(X,y, test_size = 0.3, random_state = 42)"
   ]
  },
  {
   "cell_type": "markdown",
   "metadata": {},
   "source": [
    "## TUNING (using svm)\n",
    "are only able to tune dominant and recessive"
   ]
  },
  {
   "cell_type": "code",
   "execution_count": 3,
   "metadata": {
    "collapsed": true
   },
   "outputs": [],
   "source": [
    "domi = pd.read_csv(\"dominant_std.tsv\", sep = '\\t')\n",
    "recess = pd.read_csv(\"recessive_std.tsv\", sep = '\\t')\n",
    "y_domi = domi.loc[:,[y_column]].values.flatten()\n",
    "X_domi = domi.loc[:,x_column]\n",
    "X_train_domi, X_test_domi, y_train_domi, y_test_domi = train_test_split(X_domi,y_domi, test_size = 0.3, random_state = 42)\n",
    "\n",
    "y_recess = recess.loc[:,[y_column]].values.flatten()\n",
    "X_recess = recess.loc[:,x_column]\n",
    "X_train_recess, X_test_recess, y_train_recess, y_test_recess = train_test_split(X_recess,y_recess, test_size = 0.3, random_state = 42)\n"
   ]
  },
  {
   "cell_type": "code",
   "execution_count": 4,
   "metadata": {
    "collapsed": true
   },
   "outputs": [],
   "source": [
    "tuned_parameters = [{'kernel':['rbf','linear'],'gamma':[0.01, 0.1, 1, 10],'C':[1, 10,100]}]\n",
    "def tuning(data):\n",
    "    if(data == 'overall'):\n",
    "        Xtrain, Xtest, ytrain, ytest = X_train, X_test, y_train, y_test\n",
    "    elif(data == 'domi'):\n",
    "        Xtrain, Xtest, ytrain, ytest = X_train_domi, X_test_domi, y_train_domi, y_test_domi\n",
    "    else:\n",
    "        Xtrain, Xtest, ytrain, ytest = X_train_recess, X_test_recess, y_train_recess, y_test_recess\n",
    "        \n",
    "    print(\"# Tuning hyper-parameters for %s\" % 'recall')\n",
    "    print()\n",
    "\n",
    "    clf = GridSearchCV(SVC(), tuned_parameters, scoring='%s_macro' % 'recall')\n",
    "    clf.fit(Xtrain, ytrain)\n",
    "\n",
    "    print(\"Best parameters set found on development set:\")\n",
    "    print(clf.best_params_)\n",
    "    print(\"With score : %0.3f\\n\"%clf.best_score_)\n",
    "    print(\"Grid scores on development set:\\n\")\n",
    "    means = clf.cv_results_['mean_test_score']\n",
    "    stds = clf.cv_results_['std_test_score']\n",
    "    for mean, std, params in zip(means, stds, clf.cv_results_['params']):\n",
    "        print(\"%0.3f (+/-%0.03f) for %r\" % (mean, std * 2, params))\n",
    "    print()\n",
    "\n",
    "    print(\"Detailed classification report:\\n\")\n",
    "    print(\"The model is trained on the full development set.\")\n",
    "    print(\"The scores are computed on the full evaluation set.\\n\")\n",
    "    y_true, y_pred = ytest, clf.predict(X_test)\n",
    "    #print(classification_report(y_true, y_pred))\n",
    "    print()"
   ]
  },
  {
   "cell_type": "code",
   "execution_count": 7,
   "metadata": {},
   "outputs": [
    {
     "name": "stdout",
     "output_type": "stream",
     "text": [
      "# Tuning hyper-parameters for recall\n",
      "\n"
     ]
    },
    {
     "name": "stderr",
     "output_type": "stream",
     "text": [
      "/storage/home/jkl5991/.conda/envs/sanEnv/lib/python3.6/site-packages/sklearn/model_selection/_split.py:1978: FutureWarning: The default value of cv will change from 3 to 5 in version 0.22. Specify it explicitly to silence this warning.\n",
      "  warnings.warn(CV_WARNING, FutureWarning)\n"
     ]
    },
    {
     "name": "stdout",
     "output_type": "stream",
     "text": [
      "Best parameters set found on development set:\n",
      "{'C': 1, 'gamma': 0.01, 'kernel': 'rbf'}\n",
      "With score : 0.860\n",
      "\n",
      "Grid scores on development set:\n",
      "\n",
      "0.860 (+/-0.034) for {'C': 1, 'gamma': 0.01, 'kernel': 'rbf'}\n",
      "0.849 (+/-0.030) for {'C': 1, 'gamma': 0.01, 'kernel': 'linear'}\n",
      "0.851 (+/-0.040) for {'C': 1, 'gamma': 0.1, 'kernel': 'rbf'}\n",
      "0.849 (+/-0.030) for {'C': 1, 'gamma': 0.1, 'kernel': 'linear'}\n",
      "0.597 (+/-0.030) for {'C': 1, 'gamma': 1, 'kernel': 'rbf'}\n",
      "0.849 (+/-0.030) for {'C': 1, 'gamma': 1, 'kernel': 'linear'}\n",
      "0.510 (+/-0.012) for {'C': 1, 'gamma': 10, 'kernel': 'rbf'}\n",
      "0.849 (+/-0.030) for {'C': 1, 'gamma': 10, 'kernel': 'linear'}\n",
      "0.856 (+/-0.040) for {'C': 10, 'gamma': 0.01, 'kernel': 'rbf'}\n",
      "0.850 (+/-0.022) for {'C': 10, 'gamma': 0.01, 'kernel': 'linear'}\n",
      "0.828 (+/-0.038) for {'C': 10, 'gamma': 0.1, 'kernel': 'rbf'}\n",
      "0.850 (+/-0.022) for {'C': 10, 'gamma': 0.1, 'kernel': 'linear'}\n",
      "0.608 (+/-0.036) for {'C': 10, 'gamma': 1, 'kernel': 'rbf'}\n",
      "0.850 (+/-0.022) for {'C': 10, 'gamma': 1, 'kernel': 'linear'}\n",
      "0.510 (+/-0.012) for {'C': 10, 'gamma': 10, 'kernel': 'rbf'}\n",
      "0.850 (+/-0.022) for {'C': 10, 'gamma': 10, 'kernel': 'linear'}\n",
      "0.832 (+/-0.021) for {'C': 100, 'gamma': 0.01, 'kernel': 'rbf'}\n",
      "0.850 (+/-0.022) for {'C': 100, 'gamma': 0.01, 'kernel': 'linear'}\n",
      "0.830 (+/-0.036) for {'C': 100, 'gamma': 0.1, 'kernel': 'rbf'}\n",
      "0.850 (+/-0.022) for {'C': 100, 'gamma': 0.1, 'kernel': 'linear'}\n",
      "0.608 (+/-0.036) for {'C': 100, 'gamma': 1, 'kernel': 'rbf'}\n",
      "0.850 (+/-0.022) for {'C': 100, 'gamma': 1, 'kernel': 'linear'}\n",
      "0.510 (+/-0.012) for {'C': 100, 'gamma': 10, 'kernel': 'rbf'}\n",
      "0.850 (+/-0.022) for {'C': 100, 'gamma': 10, 'kernel': 'linear'}\n",
      "\n",
      "Detailed classification report:\n",
      "\n",
      "The model is trained on the full development set.\n",
      "The scores are computed on the full evaluation set.\n",
      "\n",
      "\n"
     ]
    }
   ],
   "source": [
    "#tunning domi\n",
    "tuning('domi')"
   ]
  },
  {
   "cell_type": "code",
   "execution_count": 8,
   "metadata": {},
   "outputs": [
    {
     "name": "stdout",
     "output_type": "stream",
     "text": [
      "# Tuning hyper-parameters for recall\n",
      "\n"
     ]
    },
    {
     "name": "stderr",
     "output_type": "stream",
     "text": [
      "/storage/home/jkl5991/.conda/envs/sanEnv/lib/python3.6/site-packages/sklearn/model_selection/_split.py:1978: FutureWarning: The default value of cv will change from 3 to 5 in version 0.22. Specify it explicitly to silence this warning.\n",
      "  warnings.warn(CV_WARNING, FutureWarning)\n"
     ]
    },
    {
     "name": "stdout",
     "output_type": "stream",
     "text": [
      "Best parameters set found on development set:\n",
      "{'C': 1, 'gamma': 0.1, 'kernel': 'rbf'}\n",
      "With score : 0.864\n",
      "\n",
      "Grid scores on development set:\n",
      "\n",
      "0.863 (+/-0.030) for {'C': 1, 'gamma': 0.01, 'kernel': 'rbf'}\n",
      "0.860 (+/-0.020) for {'C': 1, 'gamma': 0.01, 'kernel': 'linear'}\n",
      "0.864 (+/-0.018) for {'C': 1, 'gamma': 0.1, 'kernel': 'rbf'}\n",
      "0.860 (+/-0.020) for {'C': 1, 'gamma': 0.1, 'kernel': 'linear'}\n",
      "0.613 (+/-0.026) for {'C': 1, 'gamma': 1, 'kernel': 'rbf'}\n",
      "0.860 (+/-0.020) for {'C': 1, 'gamma': 1, 'kernel': 'linear'}\n",
      "0.507 (+/-0.003) for {'C': 1, 'gamma': 10, 'kernel': 'rbf'}\n",
      "0.860 (+/-0.020) for {'C': 1, 'gamma': 10, 'kernel': 'linear'}\n",
      "0.863 (+/-0.024) for {'C': 10, 'gamma': 0.01, 'kernel': 'rbf'}\n",
      "0.860 (+/-0.018) for {'C': 10, 'gamma': 0.01, 'kernel': 'linear'}\n",
      "0.839 (+/-0.020) for {'C': 10, 'gamma': 0.1, 'kernel': 'rbf'}\n",
      "0.860 (+/-0.018) for {'C': 10, 'gamma': 0.1, 'kernel': 'linear'}\n",
      "0.627 (+/-0.030) for {'C': 10, 'gamma': 1, 'kernel': 'rbf'}\n",
      "0.860 (+/-0.018) for {'C': 10, 'gamma': 1, 'kernel': 'linear'}\n",
      "0.512 (+/-0.004) for {'C': 10, 'gamma': 10, 'kernel': 'rbf'}\n",
      "0.860 (+/-0.018) for {'C': 10, 'gamma': 10, 'kernel': 'linear'}\n",
      "0.846 (+/-0.019) for {'C': 100, 'gamma': 0.01, 'kernel': 'rbf'}\n",
      "0.858 (+/-0.023) for {'C': 100, 'gamma': 0.01, 'kernel': 'linear'}\n",
      "0.839 (+/-0.024) for {'C': 100, 'gamma': 0.1, 'kernel': 'rbf'}\n",
      "0.858 (+/-0.023) for {'C': 100, 'gamma': 0.1, 'kernel': 'linear'}\n",
      "0.627 (+/-0.030) for {'C': 100, 'gamma': 1, 'kernel': 'rbf'}\n",
      "0.858 (+/-0.023) for {'C': 100, 'gamma': 1, 'kernel': 'linear'}\n",
      "0.512 (+/-0.004) for {'C': 100, 'gamma': 10, 'kernel': 'rbf'}\n",
      "0.858 (+/-0.023) for {'C': 100, 'gamma': 10, 'kernel': 'linear'}\n",
      "\n",
      "Detailed classification report:\n",
      "\n",
      "The model is trained on the full development set.\n",
      "The scores are computed on the full evaluation set.\n",
      "\n",
      "\n"
     ]
    }
   ],
   "source": [
    "#tunning recess\n",
    "tuning('recess')"
   ]
  },
  {
   "cell_type": "code",
   "execution_count": null,
   "metadata": {
    "collapsed": true
   },
   "outputs": [],
   "source": [
    "#tuning overall \n",
    "tuning(X_train, X_test, y_train, y_test)"
   ]
  },
  {
   "cell_type": "markdown",
   "metadata": {
    "collapsed": true
   },
   "source": [
    "## fitting svm model"
   ]
  },
  {
   "cell_type": "code",
   "execution_count": 6,
   "metadata": {
    "collapsed": true
   },
   "outputs": [],
   "source": [
    "def svm_model(C, gamma, data, kernel = 'rbf', model = False):\n",
    "    if(data == 'overall'):\n",
    "        Xtrain, Xtest, ytrain, ytest = X_train, X_test, y_train, y_test\n",
    "    elif(data == 'domi'):\n",
    "        Xtrain, Xtest, ytrain, ytest = X_train_domi, X_test_domi, y_train_domi, y_test_domi\n",
    "    else:\n",
    "        Xtrain, Xtest, ytrain, ytest = X_train_recess, X_test_recess, y_train_recess, y_test_recess\n",
    "    if(model == False):\n",
    "        clf = 'svc'+ data\n",
    "        clf = SVC(kernel = 'rbf', C = C, gamma = gamma)\n",
    "        clf.fit(Xtrain, ytrain)\n",
    "    else: \n",
    "        clf = model\n",
    "    train_pred = clf.predict(Xtrain)\n",
    "    train_acc = accuracy_score(ytrain,train_pred)\n",
    "    test_pred = clf.predict(Xtest)\n",
    "    test_acc = accuracy_score(ytest, test_pred)\n",
    "    print('For %s svm model:'%data)\n",
    "    print('Training error rate is %.3f'%train_acc)\n",
    "    print('Testing error rate is %.3f\\n'%test_acc)\n",
    "    \n",
    "    test_hat = clf.decision_function(Xtest)\n",
    "    return(ytest, test_hat, clf)\n"
   ]
  },
  {
   "cell_type": "code",
   "execution_count": 7,
   "metadata": {},
   "outputs": [
    {
     "name": "stdout",
     "output_type": "stream",
     "text": [
      "For domi svm model:\n",
      "Training error rate is 0.938\n",
      "Testing error rate is 0.884\n",
      "\n",
      "For recess svm model:\n",
      "Training error rate is 0.899\n",
      "Testing error rate is 0.863\n",
      "\n",
      "For overall svm model:\n",
      "Training error rate is 0.890\n",
      "Testing error rate is 0.876\n",
      "\n"
     ]
    }
   ],
   "source": [
    "svm_domi = svm_model(1,0.1, 'domi')\n",
    "svm_recess = svm_model(10,0.01,'recess')\n",
    "svm_overall = svm_model(100,0.01, 'overall')"
   ]
  },
  {
   "cell_type": "code",
   "execution_count": 14,
   "metadata": {},
   "outputs": [
    {
     "data": {
      "image/png": "[encoded data removed]",
      "text/plain": [
       "<Figure size 432x288 with 1 Axes>"
      ]
     },
     "metadata": {
      "needs_background": "light"
     },
     "output_type": "display_data"
    }
   ],
   "source": [
    "drawROC(svm_domi[0],svm_domi[1], label = 'dominant')\n",
    "drawROC(svm_recess[0],svm_recess[1], label = 'recessive')\n",
    "drawROC(svm_overall[0],svm_overall[1], label = 'overall', lastone = True, title = 'SVM model')\n"
   ]
  },
  {
   "cell_type": "code",
   "execution_count": 15,
   "metadata": {},
   "outputs": [
    {
     "name": "stdout",
     "output_type": "stream",
     "text": [
      "For domi svm model:\n",
      "Training error rate is 0.848\n",
      "Testing error rate is 0.853\n",
      "\n",
      "For recess svm model:\n",
      "Training error rate is 0.846\n",
      "Testing error rate is 0.846\n",
      "\n"
     ]
    },
    {
     "data": {
      "image/png": "[encoded data removed]",
      "text/plain": [
       "<Figure size 432x288 with 1 Axes>"
      ]
     },
     "metadata": {
      "needs_background": "light"
     },
     "output_type": "display_data"
    }
   ],
   "source": [
    "#cross model(dominant & recessive)\n",
    "domi_cross = svm_model(10,0.01, 'domi', model = svm_recess[2])\n",
    "recess_cross = svm_model(1,0.1,'recess', model = svm_domi[2])\n",
    "\n",
    "drawROC(domi_cross[0], domi_cross[1], label = 'dominant')\n",
    "drawROC(recess_cross[0], recess_cross[1], label = 'recessive', lastone = True, title = 'SVM crossed data (with opposite model)')"
   ]
  },
  {
   "cell_type": "code",
   "execution_count": 16,
   "metadata": {},
   "outputs": [
    {
     "name": "stdout",
     "output_type": "stream",
     "text": [
      "For domi svm model:\n",
      "Training error rate is 0.835\n",
      "Testing error rate is 0.846\n",
      "\n",
      "For recess svm model:\n",
      "Training error rate is 0.847\n",
      "Testing error rate is 0.851\n",
      "\n"
     ]
    },
    {
     "data": {
      "image/png": "[encoded data removed]",
      "text/plain": [
       "<Figure size 432x288 with 1 Axes>"
      ]
     },
     "metadata": {
      "needs_background": "light"
     },
     "output_type": "display_data"
    }
   ],
   "source": [
    "#cross model(with overall data)\n",
    "domi_overall = svm_model(10,0.01, 'domi', model = svm_overall[2])\n",
    "recess_overall = svm_model(1,0.1,'recess', model = svm_overall[2])\n",
    "\n",
    "drawROC(domi_overall[0], domi_overall[1], label = 'dominant')\n",
    "drawROC(recess_overall[0], recess_overall[1], label = 'recessive', lastone = True, title = 'SVM crossed data(with overall model)')"
   ]
  },
  {
   "cell_type": "code",
   "execution_count": 18,
   "metadata": {
    "collapsed": true
   },
   "outputs": [],
   "source": [
    "domi = pd.DataFrame({'result': svm_domi[0], 'self_predict' : svm_domi[1], 'cross_predict' : domi_cross[1], 'overall_predict':  domi_overall[1]})\n",
    "domi.to_csv('~/work/project/not_conflict/r_noconflict/domi_svm.tsv', sep = '\\t',index = False)\n",
    "\n",
    "recess = pd.DataFrame({'result': svm_recess[0], 'self_predict' : svm_recess[1], 'cross_predict' : recess_cross[1], 'overall_predict':  recess_overall[1]})\n",
    "recess.to_csv('~/work/project/not_conflict/r_noconflict/recess_svm.tsv', sep = '\\t',index = False)\n"
   ]
  },
  {
   "cell_type": "code",
   "execution_count": 10,
   "metadata": {},
   "outputs": [
    {
     "name": "stderr",
     "output_type": "stream",
     "text": [
      "/storage/home/jkl5991/.conda/envs/sanEnv/lib/python3.6/site-packages/sklearn/linear_model/logistic.py:432: FutureWarning: Default solver will be changed to 'lbfgs' in 0.22. Specify a solver to silence this warning.\n",
      "  FutureWarning)\n"
     ]
    }
   ],
   "source": [
    "#overall #logistic \n",
    "logistic_pred= splitNfit(omit, x_column, y_column, regulation = 'l2')[4]"
   ]
  },
  {
   "cell_type": "code",
   "execution_count": 11,
   "metadata": {},
   "outputs": [],
   "source": [
    "#overall#gradient boosting\n",
    "boosting = GradientBoostingClassifier(learning_rate = 0.05, max_depth = 8, n_estimators = 200, subsample = 1)\n",
    "boosting.fit(X_train, y_train)\n",
    "boosting_pred = boosting.decision_function(X_test)"
   ]
  },
  {
   "cell_type": "code",
   "execution_count": 17,
   "metadata": {
    "collapsed": true
   },
   "outputs": [],
   "source": [
    "overall = pd.DataFrame({'result': svm_overall[0], 'logistic' : logistic_pred, 'svm' : svm_overall[1], 'boosting':  boosting_pred})\n",
    "overall.to_csv('~/work/project/not_conflict/r_noconflict/overall_comparison.tsv', sep = '\\t',index = False)"
   ]
  },
  {
   "cell_type": "code",
   "execution_count": 13,
   "metadata": {},
   "outputs": [
    {
     "data": {
      "text/html": [
       "<div>\n",
       "<style scoped>\n",
       "    .dataframe tbody tr th:only-of-type {\n",
       "        vertical-align: middle;\n",
       "    }\n",
       "\n",
       "    .dataframe tbody tr th {\n",
       "        vertical-align: top;\n",
       "    }\n",
       "\n",
       "    .dataframe thead th {\n",
       "        text-align: right;\n",
       "    }\n",
       "</style>\n",
       "<table border=\"1\" class=\"dataframe\">\n",
       "  <thead>\n",
       "    <tr style=\"text-align: right;\">\n",
       "      <th></th>\n",
       "      <th>result</th>\n",
       "      <th>logistic</th>\n",
       "      <th>svm</th>\n",
       "      <th>boosting</th>\n",
       "    </tr>\n",
       "  </thead>\n",
       "  <tbody>\n",
       "    <tr>\n",
       "      <td>0</td>\n",
       "      <td>1</td>\n",
       "      <td>0.986008</td>\n",
       "      <td>2.012901</td>\n",
       "      <td>4.728781</td>\n",
       "    </tr>\n",
       "    <tr>\n",
       "      <td>1</td>\n",
       "      <td>1</td>\n",
       "      <td>0.988906</td>\n",
       "      <td>2.034658</td>\n",
       "      <td>4.714902</td>\n",
       "    </tr>\n",
       "    <tr>\n",
       "      <td>2</td>\n",
       "      <td>0</td>\n",
       "      <td>0.058690</td>\n",
       "      <td>-2.364878</td>\n",
       "      <td>-2.403354</td>\n",
       "    </tr>\n",
       "    <tr>\n",
       "      <td>3</td>\n",
       "      <td>0</td>\n",
       "      <td>0.016051</td>\n",
       "      <td>-1.425328</td>\n",
       "      <td>-5.255237</td>\n",
       "    </tr>\n",
       "    <tr>\n",
       "      <td>4</td>\n",
       "      <td>0</td>\n",
       "      <td>0.027518</td>\n",
       "      <td>-1.148918</td>\n",
       "      <td>-3.902816</td>\n",
       "    </tr>\n",
       "    <tr>\n",
       "      <td>...</td>\n",
       "      <td>...</td>\n",
       "      <td>...</td>\n",
       "      <td>...</td>\n",
       "      <td>...</td>\n",
       "    </tr>\n",
       "    <tr>\n",
       "      <td>23299</td>\n",
       "      <td>0</td>\n",
       "      <td>0.358426</td>\n",
       "      <td>-0.677306</td>\n",
       "      <td>-0.507858</td>\n",
       "    </tr>\n",
       "    <tr>\n",
       "      <td>23300</td>\n",
       "      <td>0</td>\n",
       "      <td>0.697533</td>\n",
       "      <td>0.990633</td>\n",
       "      <td>1.309177</td>\n",
       "    </tr>\n",
       "    <tr>\n",
       "      <td>23301</td>\n",
       "      <td>0</td>\n",
       "      <td>0.052265</td>\n",
       "      <td>-1.269120</td>\n",
       "      <td>-2.842562</td>\n",
       "    </tr>\n",
       "    <tr>\n",
       "      <td>23302</td>\n",
       "      <td>1</td>\n",
       "      <td>0.179735</td>\n",
       "      <td>-1.045159</td>\n",
       "      <td>-1.899154</td>\n",
       "    </tr>\n",
       "    <tr>\n",
       "      <td>23303</td>\n",
       "      <td>0</td>\n",
       "      <td>0.195731</td>\n",
       "      <td>-1.032480</td>\n",
       "      <td>-1.675373</td>\n",
       "    </tr>\n",
       "  </tbody>\n",
       "</table>\n",
       "<p>23304 rows × 4 columns</p>\n",
       "</div>"
      ],
      "text/plain": [
       "       result  logistic       svm  boosting\n",
       "0           1  0.986008  2.012901  4.728781\n",
       "1           1  0.988906  2.034658  4.714902\n",
       "2           0  0.058690 -2.364878 -2.403354\n",
       "3           0  0.016051 -1.425328 -5.255237\n",
       "4           0  0.027518 -1.148918 -3.902816\n",
       "...       ...       ...       ...       ...\n",
       "23299       0  0.358426 -0.677306 -0.507858\n",
       "23300       0  0.697533  0.990633  1.309177\n",
       "23301       0  0.052265 -1.269120 -2.842562\n",
       "23302       1  0.179735 -1.045159 -1.899154\n",
       "23303       0  0.195731 -1.032480 -1.675373\n",
       "\n",
       "[23304 rows x 4 columns]"
      ]
     },
     "execution_count": 13,
     "metadata": {},
     "output_type": "execute_result"
    }
   ],
   "source": [
    "overall"
   ]
  },
  {
   "cell_type": "code",
   "execution_count": 16,
   "metadata": {},
   "outputs": [
    {
     "data": {
      "text/plain": [
       "array([-1.88129380e+00,  1.76959658e+00,  2.34987227e+00, -4.20705187e-01,\n",
       "       -2.08542117e+00,  3.87247014e-02,  4.87705525e-01,  1.81285628e+00,\n",
       "        1.67458375e+00,  2.48856536e+00,  3.54115480e-01,  2.27448348e+00,\n",
       "       -1.67060449e+00,  1.72985021e+00, -2.95447489e-01,  1.77392108e+00,\n",
       "       -1.42322528e+00,  1.35688862e+00, -2.76685939e-01,  2.84492920e-01,\n",
       "       -1.67828874e+00,  6.64134082e-02, -1.67127020e+00, -1.72363933e+00,\n",
       "        1.10306888e+00,  3.62565066e-01, -3.20273276e-01,  1.85685528e+00,\n",
       "       -1.72682858e+00,  2.01891907e+00, -1.46176668e+00,  2.75488279e+00,\n",
       "        1.40405936e+00,  9.06081765e-01,  2.12371509e+00, -3.61234419e-01,\n",
       "       -8.06027910e-01, -1.12732233e+00,  1.76364415e+00,  9.03060166e-01,\n",
       "        1.32180134e+00,  1.46583507e+00,  2.32986719e+00, -2.28536927e-01,\n",
       "        1.32395861e+00,  1.08064886e+00, -1.32584026e+00, -1.57161923e+00,\n",
       "       -1.09268912e+00, -8.85302510e-01, -1.01445446e+00, -2.22899741e+00,\n",
       "        1.31434861e+00, -1.24183089e+00,  3.88348859e-03, -1.69146879e+00,\n",
       "       -2.83796722e-01, -2.03031276e+00,  2.51510184e+00, -1.83747924e+00,\n",
       "        1.78300671e+00, -1.41737526e+00, -9.66411634e-01, -1.63806373e+00,\n",
       "       -1.95648203e+00,  1.34254187e+00, -7.10403884e-01,  5.17420219e-01,\n",
       "       -3.46311069e-01,  1.99579658e+00,  1.43647883e+00, -1.65754925e+00,\n",
       "        2.47642432e+00, -8.79561501e-01, -1.55232623e+00,  2.82395184e+00,\n",
       "        2.50145822e+00, -1.92415502e+00, -1.21911306e-01,  2.21545709e+00,\n",
       "        1.72715640e+00, -1.77923962e+00,  6.21848336e-01, -2.09543485e+00,\n",
       "       -1.89721296e+00,  1.93839060e+00, -1.40048104e+00, -1.83574623e+00,\n",
       "       -8.12318620e-01,  9.75542882e-03,  2.31904080e+00, -1.87136985e+00,\n",
       "       -1.14969293e+00,  2.47930508e+00, -9.93461363e-01, -1.40314228e+00,\n",
       "        2.32260663e+00, -1.47425208e+00,  2.10069037e+00, -6.80490850e-01,\n",
       "        1.18183078e+00,  2.21559867e+00,  2.04804178e+00,  9.88428742e-01,\n",
       "       -1.39569974e+00,  1.93024162e+00,  1.37163573e+00, -1.43113744e+00,\n",
       "        8.82818729e-01, -1.51080044e+00, -1.05452854e+00,  2.21169752e+00,\n",
       "        4.99982583e-01, -5.20219230e-02,  1.19659819e+00,  9.00768567e-01,\n",
       "       -2.31856255e+00,  2.18925809e+00, -1.16609616e+00, -1.00645360e+00,\n",
       "        7.00811200e-01,  1.57613179e+00,  1.06456353e+00,  2.55438312e+00,\n",
       "       -5.07856769e-01, -9.35262843e-01,  1.24013330e+00, -1.49022269e+00,\n",
       "        1.77646523e+00,  2.21036382e+00,  7.22702910e-01, -5.29333095e-01,\n",
       "       -9.32234698e-01,  2.32247959e+00, -2.26666116e+00,  2.09343872e+00,\n",
       "        1.43635768e-02,  9.43357647e-01,  1.91398844e+00, -1.22971216e-01,\n",
       "        2.50859068e+00, -1.35633418e+00,  3.05757847e-01, -5.81978486e-01,\n",
       "        1.03281526e+00, -1.80376505e+00,  1.06748709e+00, -1.86377866e+00,\n",
       "        1.08535445e+00,  1.20026575e+00,  6.69752882e-01,  2.02697328e+00,\n",
       "       -1.16051830e+00, -1.74458314e+00,  1.94541286e+00, -1.48944355e+00,\n",
       "        2.16610190e+00,  1.29882470e+00,  1.57122503e+00,  1.63642554e+00,\n",
       "       -1.12114823e+00,  1.06963993e-02,  9.82077591e-01,  2.34501805e+00,\n",
       "        2.17399266e-01,  7.30075626e-01,  2.02715529e+00,  9.52281248e-01,\n",
       "       -5.70206608e-01,  3.10775573e-01, -7.44080980e-01,  2.05534994e+00,\n",
       "       -1.81683724e+00,  1.84014994e+00, -1.72692172e-01, -1.93312925e+00,\n",
       "        2.34443440e+00,  9.92745348e-01, -1.88083913e-01,  1.04722974e+00,\n",
       "       -1.44162941e+00,  1.83221026e+00,  7.62480112e-01,  2.30305829e+00,\n",
       "        1.55234430e+00,  1.56526899e+00, -1.87091508e-01, -1.46500138e+00,\n",
       "        1.82142540e+00, -1.73232528e+00, -1.45415970e+00, -1.93608142e+00,\n",
       "       -1.36934296e+00, -1.68046078e+00,  3.38994570e-01, -1.05088351e+00,\n",
       "        1.45650840e+00, -1.66351745e+00, -4.08542321e-01,  5.65178372e-01,\n",
       "       -1.44755376e+00, -1.48267438e+00,  2.48905730e+00, -1.38142459e+00,\n",
       "        6.25717257e-01,  2.44244627e+00, -6.21863625e-01, -6.81333161e-01,\n",
       "       -2.44059021e-01,  2.30454293e+00, -1.79923214e+00,  1.97270069e+00,\n",
       "       -3.24071897e-02,  5.36236895e-01,  2.01004843e+00,  2.08788593e+00,\n",
       "       -1.61842305e+00,  2.24852554e+00, -1.48039945e+00,  8.20987723e-02,\n",
       "       -9.34772070e-01,  5.58953276e-01, -1.75667470e+00,  1.19255757e+00,\n",
       "        1.54330111e+00, -1.27231899e+00,  1.63605546e+00,  1.52835460e+00,\n",
       "       -6.58781159e-01,  2.13608255e+00,  2.60637531e+00, -1.55558337e+00,\n",
       "        1.87229936e+00, -1.50189936e+00, -1.84255060e+00,  2.42554335e+00,\n",
       "       -1.38662383e+00,  8.29688080e-01,  1.53890564e+00, -1.83687860e+00,\n",
       "       -1.63249303e+00, -1.47983245e+00,  2.50844976e+00, -1.10824849e+00,\n",
       "       -1.77636367e+00, -7.09356019e-01, -1.51946478e+00,  2.00665875e+00,\n",
       "       -1.69105265e+00, -1.16037575e+00,  6.76215001e-01, -8.92955951e-01,\n",
       "       -1.64074929e+00, -1.53497304e+00,  1.55043693e+00, -5.94449464e-01,\n",
       "       -1.63989462e+00, -1.08750912e+00,  1.60843287e+00, -2.39098903e+00,\n",
       "        2.13402012e+00, -1.14613120e+00,  1.18663572e+00,  8.38336519e-01,\n",
       "        1.36017166e+00,  2.52859733e+00, -1.22881802e+00, -6.66359643e-01,\n",
       "        1.77040379e+00, -1.89273632e+00, -1.92412922e+00, -1.60080034e+00,\n",
       "       -1.23314540e+00, -1.46123865e+00, -1.33164755e+00,  1.77257997e+00,\n",
       "       -1.37059509e+00,  2.24641191e+00, -1.61109952e+00, -1.44487708e+00,\n",
       "       -1.16194303e+00,  3.24421179e-01,  1.63253085e+00,  1.03509286e+00,\n",
       "       -1.00367336e+00,  2.66924531e+00, -1.58329912e-01,  2.04341469e+00,\n",
       "        1.37249473e+00, -1.49997413e+00, -1.19386086e+00,  2.46239154e+00,\n",
       "       -9.02430875e-01,  2.60907209e+00,  1.27336347e+00, -5.95105605e-01,\n",
       "        1.63271366e+00,  4.49322310e-01, -4.84120304e-01, -1.97551686e+00,\n",
       "        2.20367286e+00, -1.20030805e+00,  1.20196083e+00,  1.79993875e+00,\n",
       "        1.29202754e+00,  2.07351101e+00,  2.25734793e+00, -1.78131623e+00,\n",
       "        1.70349984e+00,  1.80288694e+00,  2.69385557e+00,  4.02387734e-01,\n",
       "        2.00069824e+00, -1.56916793e+00, -5.76916782e-01,  5.81785326e-01,\n",
       "       -1.42854051e+00, -1.40788717e+00,  2.61381195e+00, -1.57004812e+00,\n",
       "       -1.21030384e+00, -1.37069332e+00, -6.69085648e-01,  2.32259837e+00,\n",
       "        1.26280767e+00, -6.40042029e-01, -2.57468769e+00, -2.02966366e+00,\n",
       "       -1.42372222e+00, -2.52650200e-03, -7.21855025e-01, -2.12207144e+00,\n",
       "        1.43530650e+00, -5.79727054e-01, -2.07020711e+00,  1.08591416e+00,\n",
       "       -2.00555916e+00,  2.35928682e+00,  2.09709075e+00,  4.22776617e-01,\n",
       "        1.31160948e+00,  2.30549965e+00,  5.96317010e-01,  6.59438827e-01,\n",
       "       -1.72011979e-02,  2.78950794e-01, -1.17619090e+00, -6.63106477e-01,\n",
       "       -5.24061658e-01,  3.14233818e-01,  1.82509716e+00, -1.18374683e+00,\n",
       "       -1.06202106e+00, -1.79964301e+00,  4.05660992e-01, -8.96093681e-01,\n",
       "       -1.16338045e+00,  8.11773613e-01, -7.85984238e-02, -1.92708786e+00,\n",
       "       -1.26665656e+00,  2.06689073e+00,  1.37761756e+00, -2.99712495e-02,\n",
       "       -2.13913609e+00,  1.04626141e+00, -1.51823056e+00, -1.83229843e+00,\n",
       "       -3.83405962e-01,  1.93699015e+00,  1.07152728e+00,  1.07046390e+00,\n",
       "       -5.57974921e-01, -1.71781012e+00,  2.31332179e+00,  2.37546308e+00,\n",
       "        1.98346060e+00,  4.79936732e-01, -1.91071682e+00,  2.17562227e+00,\n",
       "        2.39837768e+00, -1.79674642e+00, -9.05789474e-01,  4.05024846e-01,\n",
       "       -1.11775910e+00, -2.30923999e+00,  1.59548950e+00,  1.36962567e+00,\n",
       "        1.14301802e+00, -2.05666136e+00, -6.30074376e-01, -9.07653536e-01,\n",
       "        1.80558844e+00,  1.34785164e+00, -1.20200562e+00,  1.39857927e+00,\n",
       "       -8.89313871e-01, -6.65108982e-01,  5.50244179e-01, -1.21269677e+00,\n",
       "        1.55452483e+00,  2.18509179e+00, -1.68770760e+00, -1.80083688e+00,\n",
       "        6.26459484e-01,  1.02708572e+00,  2.64209760e-01,  2.15715052e+00,\n",
       "       -1.74279321e+00, -1.97054729e+00, -1.03330528e+00,  2.28795024e+00,\n",
       "       -1.74090585e+00,  2.23853646e+00, -1.74395040e+00,  4.27618327e-01,\n",
       "       -4.40496798e-01, -1.39173827e+00,  2.32575712e-01,  1.01019858e+00,\n",
       "       -1.18005801e+00,  8.24591828e-01,  1.50291514e+00,  1.10992496e-01,\n",
       "       -8.72251461e-01, -1.83656136e+00, -2.67656107e-02,  2.16672501e+00,\n",
       "       -4.17117290e-01, -1.42990792e+00, -1.71996944e+00,  1.82851239e+00,\n",
       "       -1.96760618e+00,  1.70925565e+00,  1.81161344e+00, -1.32123402e+00,\n",
       "       -1.25654141e+00, -9.99399324e-01, -3.27884584e-01, -1.93982044e+00,\n",
       "       -3.84820485e-02, -1.65215652e+00, -1.74794773e+00, -1.54611469e+00,\n",
       "        2.19907826e+00,  2.00235367e+00,  1.38620814e+00, -1.37567512e+00,\n",
       "        1.96276750e+00, -1.49001260e+00,  2.60545738e+00, -7.72282483e-01,\n",
       "        2.26531762e+00, -6.10923465e-01,  2.32765522e-01, -1.48641605e+00,\n",
       "       -3.44957668e-01, -8.92028611e-01, -2.03390899e+00,  4.27595982e-01,\n",
       "       -1.21451062e+00,  6.95367875e-01,  1.41121386e+00,  6.50515642e-01,\n",
       "       -1.34413401e-01,  2.08503674e+00, -1.11645492e-01, -1.81485860e+00,\n",
       "        1.39235817e+00,  1.61014996e+00, -1.64158355e+00,  1.89678988e+00,\n",
       "       -9.40185994e-01,  1.90503977e+00, -1.48251017e+00, -1.92999309e+00,\n",
       "       -1.71426793e+00, -7.68122780e-01, -2.14814000e+00,  9.34674532e-01,\n",
       "       -3.78840203e-01,  1.39256539e+00, -1.35563312e+00, -1.36426428e+00,\n",
       "        2.39516991e+00,  2.40480104e+00, -2.08633365e+00,  1.09981376e+00,\n",
       "        6.87333035e-01,  2.33896784e-02,  2.21367736e+00, -1.40260466e+00,\n",
       "       -1.70595280e+00, -1.30575575e+00, -2.01016167e+00,  1.53985884e+00,\n",
       "        1.01687722e+00,  4.01706407e-02,  1.31048667e+00, -1.28127794e+00,\n",
       "        2.18164967e+00, -1.29298751e+00, -3.01446906e-01,  8.25930918e-01,\n",
       "       -1.59121223e+00,  6.85394560e-01,  6.54596008e-01,  1.07729569e-01,\n",
       "       -6.86009608e-01,  1.57114118e+00,  4.86808616e-01, -1.01993214e+00,\n",
       "        2.08527601e+00, -1.70545186e+00,  1.16916574e+00,  5.18562413e-01,\n",
       "       -8.49427374e-01,  1.10538654e+00, -2.19173979e+00,  1.98377334e+00,\n",
       "       -1.74301753e+00,  1.27754758e-01,  2.40264678e+00,  1.34872947e-02,\n",
       "        1.87477784e+00, -1.72000434e+00, -5.86257395e-01,  2.19206605e+00,\n",
       "       -1.79141730e+00,  7.09831609e-01, -1.47386867e+00,  1.59291520e+00,\n",
       "       -4.68522759e-01,  8.82275277e-01, -1.84459586e+00,  5.52728258e-01,\n",
       "        8.65455624e-01, -1.63391650e+00,  1.02740202e-01,  1.98579220e+00,\n",
       "       -1.18153801e+00,  1.31275464e-01,  9.79402289e-01, -1.16475612e+00,\n",
       "       -7.82119624e-01, -1.40963489e+00,  9.34259533e-01, -4.76164790e-01,\n",
       "        4.28857467e-01,  2.76264340e+00, -1.52227688e+00,  2.92838768e+00,\n",
       "        2.46066344e+00, -7.22934663e-01, -1.55954603e+00,  2.02920615e-01,\n",
       "       -3.79886642e-01,  3.00665074e+00,  1.92161281e+00, -1.47746951e+00,\n",
       "       -1.26535851e+00,  4.54159599e-01, -1.60762816e+00,  1.43632051e+00,\n",
       "        1.41575900e+00,  2.19317093e+00, -2.01117797e-02, -3.30798838e-01,\n",
       "       -1.40253594e+00, -2.07190082e+00,  2.11328159e+00,  1.17249969e+00,\n",
       "       -6.59923532e-01,  2.63446467e+00, -6.44223039e-01,  1.67824600e+00,\n",
       "       -1.48371876e+00, -1.78384869e+00, -9.40580865e-01,  6.42020963e-01,\n",
       "       -5.76937547e-01, -4.16024487e-01,  2.83817890e+00,  2.60157782e+00,\n",
       "       -1.11604776e+00,  3.89027181e-01, -1.42082961e+00, -1.06679024e+00,\n",
       "        1.39516012e+00,  2.13332881e+00, -1.71730441e+00, -9.45204515e-01,\n",
       "        1.07808268e+00,  2.27126438e+00,  1.54458692e+00, -2.25833198e+00,\n",
       "        6.86404802e-01, -1.93283764e+00,  9.17671470e-01,  2.38137000e+00,\n",
       "       -1.41060807e+00,  1.71534999e+00,  1.37758213e+00,  2.28039165e+00,\n",
       "       -1.73938771e+00, -1.90280498e+00, -1.77741419e+00,  3.13013259e-01,\n",
       "        1.91491923e+00, -8.67041649e-01, -1.16387540e+00, -3.67842287e-01,\n",
       "        1.24317447e+00,  2.25105047e+00,  4.45728887e-01,  2.94916397e+00,\n",
       "       -1.19734690e+00, -1.62588918e+00,  2.34636615e+00, -7.30182699e-01,\n",
       "       -1.19213326e+00, -1.11478054e+00, -2.16838287e+00,  1.36316727e+00,\n",
       "        1.75485908e+00,  1.36321142e+00, -2.05829332e+00, -7.41216903e-01,\n",
       "        2.20275181e+00,  6.37945465e-01, -5.03714091e-01,  2.51984352e+00,\n",
       "       -1.54440415e-03,  1.22297249e+00, -4.02442954e-01, -9.28936676e-03,\n",
       "       -1.53288759e-01, -1.76695946e+00, -1.12446040e+00, -1.84558112e+00,\n",
       "        3.05391773e+00, -1.69223254e+00, -1.93008262e+00, -8.92741268e-01,\n",
       "        2.05547824e+00,  1.78863050e+00,  1.42353955e+00,  1.75180338e+00,\n",
       "        1.39382626e+00, -1.21773337e+00, -1.73229480e+00, -2.58195452e-01,\n",
       "        4.26942442e-01,  1.85308857e+00,  2.30746116e+00, -9.82678302e-01,\n",
       "       -1.51646960e+00,  2.38997306e+00, -7.77925632e-01, -2.01672859e+00,\n",
       "        7.04143467e-01, -1.60148414e+00,  2.60362624e+00,  8.40031750e-01,\n",
       "        1.05078171e+00,  2.05122074e+00,  1.66642646e+00,  2.70409408e+00,\n",
       "        2.09429867e+00, -6.74754275e-01,  1.37092922e+00,  5.16765015e-01,\n",
       "        1.41126115e+00,  2.16311252e+00,  2.43032560e+00, -1.73435343e+00,\n",
       "        8.97307382e-01,  9.98014870e-01, -5.32347779e-01, -2.33421984e+00,\n",
       "       -1.46628952e+00, -3.56717862e-01, -6.36447393e-01, -1.44153782e+00,\n",
       "        1.23394863e+00,  1.07568637e+00, -1.36470916e+00,  2.11666513e+00,\n",
       "       -1.93620687e+00,  1.73033682e+00, -2.58162751e-01,  1.75410285e+00,\n",
       "        8.92054464e-01, -1.11055981e+00, -1.57960895e+00, -1.53888981e+00,\n",
       "       -1.28245721e+00, -1.98222250e+00,  1.35518909e+00,  1.46527966e+00,\n",
       "        1.41021677e+00,  1.11788706e+00, -5.01546589e-01, -1.49544389e+00,\n",
       "       -1.28880535e+00,  9.79999999e-01, -1.81650468e+00,  5.52848191e-01,\n",
       "        5.50203096e-01,  1.44894320e+00, -6.17111155e-01, -6.65872282e-01,\n",
       "        1.70173187e+00,  1.93720989e+00, -1.18791657e+00,  1.21702576e+00,\n",
       "        9.93076451e-02,  1.61257615e+00, -4.56250783e-01,  1.99406367e+00,\n",
       "        1.63534902e+00, -1.16258929e+00, -7.32536835e-01,  1.96175397e+00,\n",
       "        1.26274137e-01, -8.88114969e-01, -2.02510902e+00, -9.50292726e-01,\n",
       "       -1.10546325e-01,  3.28454824e+00, -1.15709879e+00,  1.17415831e+00,\n",
       "        1.76543582e+00, -3.77415311e-01,  1.63747920e+00, -2.58798304e-01,\n",
       "        1.43633950e+00,  3.81823213e-01, -1.59796605e+00,  6.22557820e-01,\n",
       "       -2.04516040e-01,  1.80211566e+00,  3.45603412e-01, -1.97342041e+00,\n",
       "       -1.19262008e+00,  1.10755667e-01,  1.33047526e+00, -2.02930223e+00,\n",
       "        1.59637422e+00,  1.78302410e+00, -1.29083534e+00, -1.20908492e+00,\n",
       "        8.13878198e-01,  1.61629120e+00,  1.39473544e+00, -5.38360765e-01,\n",
       "       -1.13194936e+00, -1.08994848e+00, -1.90300931e+00,  2.47690029e+00,\n",
       "        2.11875784e+00, -3.79272960e-01, -1.16988263e+00,  1.23513922e+00,\n",
       "        1.52983721e+00,  1.83928579e+00,  1.47320251e+00, -1.94906181e+00,\n",
       "       -4.76032548e-01,  1.32386593e+00,  2.13170760e+00, -1.63450100e+00,\n",
       "       -1.00713259e+00,  1.81861391e+00,  2.50802025e+00, -1.17581742e+00,\n",
       "       -1.24359288e+00,  1.27889166e+00, -4.91911673e-01, -1.44565493e+00,\n",
       "       -1.50618759e+00, -6.23544074e-01, -1.41801324e+00,  1.52260175e+00,\n",
       "       -1.89156697e+00, -1.89413365e+00, -1.68292256e+00, -7.98391441e-01,\n",
       "        1.09300157e+00, -1.99599977e-01,  2.11234672e+00,  2.14763648e+00,\n",
       "        2.38723081e+00, -1.28592207e+00,  2.24600553e+00,  1.81297694e+00,\n",
       "        2.07202684e+00, -1.46973846e+00, -5.92786019e-01, -1.55391704e+00,\n",
       "        2.56197443e+00, -1.58177042e+00, -1.14301733e+00, -2.14664062e+00,\n",
       "        2.01307341e-01, -1.65446766e+00, -1.46062513e+00,  3.39471715e-01,\n",
       "        1.55042429e+00, -2.19093222e+00,  2.34383900e+00,  2.92227592e-01,\n",
       "        5.19112929e-01, -1.51567078e+00, -1.59881471e+00,  7.57807804e-01,\n",
       "        2.21893504e+00, -1.63861442e+00, -2.03495959e+00, -7.56504902e-01,\n",
       "        1.36409987e+00,  2.19242260e+00, -1.56247676e+00,  2.13787005e+00,\n",
       "       -1.27161971e+00,  1.63689313e+00,  2.19644686e+00,  2.06577644e+00,\n",
       "       -6.71002248e-01,  2.16583541e+00])"
      ]
     },
     "execution_count": 16,
     "metadata": {},
     "output_type": "execute_result"
    }
   ],
   "source": [
    " svm_recess[1]"
   ]
  },
  {
   "cell_type": "code",
   "execution_count": null,
   "metadata": {
    "collapsed": true
   },
   "outputs": [],
   "source": []
  }
 ],
 "metadata": {
  "kernelspec": {
   "display_name": "Python (sanEnv)",
   "language": "python",
   "name": "sanenv"
  },
  "language_info": {
   "codemirror_mode": {
    "name": "ipython",
    "version": 3
   },
   "file_extension": ".py",
   "mimetype": "text/x-python",
   "name": "python",
   "nbconvert_exporter": "python",
   "pygments_lexer": "ipython3",
   "version": "3.6.9"
  }
 },
 "nbformat": 4,
 "nbformat_minor": 2
}
