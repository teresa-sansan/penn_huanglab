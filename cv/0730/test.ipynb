{
 "cells": [
  {
   "cell_type": "code",
   "execution_count": 1,
   "metadata": {
    "collapsed": true
   },
   "outputs": [],
   "source": [
    "import sys \n",
    "import pandas as pd\n",
    "import numpy as np\n",
    "import matplotlib.pyplot as plt\n",
    "from sklearn.model_selection import cross_val_score,train_test_split\n",
    "from sklearn.pipeline import Pipeline\n",
    "from sklearn.preprocessing import StandardScaler\n",
    "from sklearn.svm import LinearSVC,SVC\n",
    "from sklearn import metrics, svm\n",
    "from sklearn.metrics import accuracy_score\n",
    "\n"
   ]
  },
  {
   "cell_type": "code",
   "execution_count": 11,
   "metadata": {},
   "outputs": [],
   "source": [
    "train = pd.read_csv(\"/storage/home/jkl5991/work/project/not_conflict/cv/0730/original/train_recess.tsv\", sep = \"\\t\")\n",
    "valid = pd.read_csv(\"/storage/home/jkl5991/work/project/not_conflict/cv/0730/original/valid_recess.tsv\", sep = \"\\t\")\n",
    "\n",
    "x_column = ['SIFT_pred','LRT_pred', 'MA_pred', 'PROVEN_pred', 'SLR_score', 'SIFT_score','LRT_omega', \n",
    "                'MA_score', 'PROVEN_score', 'Grantham', 'HMMEntropy','HMMRelEntropy', 'PredRSAB', 'PredRSAI', \n",
    "                'PredRSAE','PredBFactorF', 'PredBFactorM', 'PredBFactorS', 'PredStabilityH','PredStabilityM', \n",
    "                'PredStabilityL', 'PredSSE', 'PredSSH','PredSSC', 'dscore', 'phyloP_pri', 'phyloP_mam','phyloP_ver','RNA_seq','UNEECON']\n",
    "y_column = ['clinvar_result']\n",
    "\n",
    "X_train = train.loc[:,x_column]\n",
    "y_train = train.loc[:,y_column].values.flatten()\n",
    "\n",
    "X_valid = valid.loc[:,x_column]\n",
    "y_valid = valid.loc[:,y_column].values.flatten()\n",
    "\n",
    "\n"
   ]
  },
  {
   "cell_type": "code",
   "execution_count": 12,
   "metadata": {},
   "outputs": [
    {
     "name": "stdout",
     "output_type": "stream",
     "text": [
      "training accuracy = 0.890511\n",
      "\n"
     ]
    }
   ],
   "source": [
    "svc = SVC(kernel = \"rbf\", C = 1, gamma = 0.1)\n",
    "svc.fit(X_train, y_train)\n",
    "valid_pred = svc.predict(X_valid)\n",
    "valid_acc = accuracy_score(y_valid,valid_pred, normalize = True)\n",
    "#valid_acc = svc.score(y_valid,valid_pred)\n",
    "print(\"training accuracy = %f\\n\"%valid_acc)"
   ]
  },
  {
   "cell_type": "code",
   "execution_count": 13,
   "metadata": {},
   "outputs": [
    {
     "name": "stdout",
     "output_type": "stream",
     "text": [
      "training accuracy = 0.879562\n",
      "\n"
     ]
    }
   ],
   "source": [
    "svc = SVC(kernel = \"linear\", C = 1, gamma = 0.01)\n",
    "svc.fit(X_train, y_train)\n",
    "valid_pred = svc.predict(X_valid)\n",
    "valid_acc = accuracy_score(y_valid,valid_pred, normalize = True)\n",
    "#valid_acc = svc.score(y_valid,valid_pred)\n",
    "print(\"training accuracy = %f\\n\"%valid_acc)"
   ]
  },
  {
   "cell_type": "code",
   "execution_count": null,
   "metadata": {
    "collapsed": true
   },
   "outputs": [],
   "source": []
  }
 ],
 "metadata": {
  "kernelspec": {
   "display_name": "Python (sanEnv)",
   "language": "python",
   "name": "sanenv"
  },
  "language_info": {
   "codemirror_mode": {
    "name": "ipython",
    "version": 3
   },
   "file_extension": ".py",
   "mimetype": "text/x-python",
   "name": "python",
   "nbconvert_exporter": "python",
   "pygments_lexer": "ipython3",
   "version": "3.6.9"
  }
 },
 "nbformat": 4,
 "nbformat_minor": 2
}
